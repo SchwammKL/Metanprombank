{
 "cells": [
  {
   "cell_type": "markdown",
   "metadata": {},
   "source": [
    "# Метанпромбанк — Анализ оттока клиентов#\n",
    "\n",
    "# Описание задачи #\n",
    "    Заказчик: отдел маркетинга.\n",
    "    Потребитель: менеджер маркетинговых компаний, менеджерам продуктов.\n",
    "    Требуется: Выделить сегменты оточных клиентов, чтобы они были однородными, высокоотточными и покрвали максимум проблемных зон банка. Таким образом, маркетинговое воздействие на эти сегменты должно привести к уменьшению.\n",
    "    Причина обращения: В банке драматически повысился отток клиентов, что угрожает существованию банка.\n",
    "    Предыстория: Ранее подобные исследования проводились, но результаты устарели, необходимо новое исследование."
   ]
  },
  {
   "cell_type": "markdown",
   "metadata": {},
   "source": [
    "# Декомпозиция #\n",
    "\n",
    "    1. Импорт, подготовка данных.\n",
    "    1.1. Приведение имен столбцов к стандарту\n",
    "    1.2. Проверка очевидных и скрытых дубликатов. Корректировка.\n",
    "    1.3. Кодирование категориальных данных.\n",
    "    1.4. Проверка пропусков, принятие решение о действиях.\n",
    "    1.5. Промежуточный вывод\n",
    "    2. Исследовательский анализ данных\n",
    "    2.1. Разделение параметров на непрерывные (score, age, balance, est_salary) и категориальные (city, gender, equiity, products, credit card, last_activity). \n",
    "    2.2. Для непрерывных - строим сравнительные нормированные гистограммы в разрезе параметра churn и ящики с усами. Определяем интервалы значений, характерные величины (медиана/среднее и т.п.). Определяем диапазоны параметра, характерные для отточных клиентов.\n",
    "    2.3. Для категориальных параметров определяем для каждого значения величину группы и долю клиентов с churn==1. Таблица + столбчатый график.\n",
    "    2.4. Проводим корреляционный анализ данных.\n",
    "    2.5. Портрет клиента.\n",
    "    2.6. Промежуточные выводы по разделу\n",
    "    3. Проверка статистических гипотез.\n",
    "    3.1. Гипотеза о различии дохода между клиентами, которые планируют уйти и клиентами, которые планируют остаться.\n",
    "    3.2. Гипотеза о различии кредитного скоринга между клиентами, окторые планируют уйти и клиентами, которые планируют остаться.\n",
    "    3.3. Гипотеза о различии баланса между клиентами, окторые планируют уйти и клиентами, которые планируют остаться.\n",
    "    3.4. Гипотеза о различии использования кредитной карты между клиентами, окторые планируют уйти и клиентами, которые планируют остаться.\n",
    "    3.5. Гипотеза о различии собственности между клиентами, окторые планируют уйти и клиентами, которые планируют остаться.\n",
    "    3.6. Гипотеза о различии активности между клиентами, окторые планируют уйти и клиентами, которые планируют остаться.\n",
    "    3.7. Гипотеза о различии проживания в городе Ярославль между клиентами, окторые планируют уйти и клиентами, которые планируют остаться.\n",
    "    3.8. Гипотеза о различии пола между клиентами, окторые планируют уйти и клиентами, которые планируют остаться.\n",
    "    3.9. Промежуточный итог по стат. гипотезам\n",
    "    4. Сегментация\n",
    "    4.1. Комбинацией наиболее оточных параметров из пункта 2 попарно (либо тройками) выбрать сегменты, позволяющие выделить отточных клиентов. Требования к сегменту - отоок в 2 раза больше, чем в среднем. Размер сегмента 300-2000 человек. Подобрать сегменты таким образом, чтобы они вместе перекрывали максимально возможное количество отточных клиентов.\n",
    "    4.2. Для сегментов определить возможные причины оттока, предложить преимущества, способные оставить клиента клиентом.\n",
    "    5. Общие выводы\n",
    "    6. Заключение"
   ]
  },
  {
   "cell_type": "markdown",
   "metadata": {},
   "source": [
    "## Импорт, подготовка данных.\t"
   ]
  },
  {
   "cell_type": "code",
   "execution_count": 1,
   "metadata": {},
   "outputs": [
    {
     "name": "stderr",
     "output_type": "stream",
     "text": [
      "C:\\ProgramData\\anaconda3\\envs\\practicum\\lib\\site-packages\\scipy\\__init__.py:146: UserWarning: A NumPy version >=1.17.3 and <1.25.0 is required for this version of SciPy (detected version 1.26.4\n",
      "  warnings.warn(f\"A NumPy version >={np_minversion} and <{np_maxversion}\"\n"
     ]
    }
   ],
   "source": [
    "import pandas as pd\n",
    "import matplotlib \n",
    "import matplotlib.pyplot as plt\n",
    "import matplotlib.patches as patches\n",
    "import seaborn as sns\n",
    "from scipy import stats as st\n",
    "import math as mth"
   ]
  },
  {
   "cell_type": "code",
   "execution_count": 2,
   "metadata": {},
   "outputs": [],
   "source": [
    "try:\n",
    "    data = pd.read_csv('bank_scrooge.csv')\n",
    "except:\n",
    "    data = pd.read_csv('https://code.s3.yandex.net/datasets/bank_scrooge.csv')"
   ]
  },
  {
   "cell_type": "markdown",
   "metadata": {},
   "source": [
    "### Приведение имен столбцов к стандарту"
   ]
  },
  {
   "cell_type": "code",
   "execution_count": 3,
   "metadata": {},
   "outputs": [],
   "source": [
    "data = data.rename(columns={'USERID': 'user_id', 'EST_SALARY': 'est_salary'})"
   ]
  },
  {
   "cell_type": "markdown",
   "metadata": {},
   "source": [
    "### Проверка очевидных и скрытых дубликатов. Корректировка."
   ]
  },
  {
   "cell_type": "code",
   "execution_count": 4,
   "metadata": {},
   "outputs": [
    {
     "data": {
      "text/plain": [
       "'Количество явных дубликатов: 0'"
      ]
     },
     "metadata": {},
     "output_type": "display_data"
    },
    {
     "data": {
      "text/plain": [
       "'Количество неявных дубликатов: 73'"
      ]
     },
     "metadata": {},
     "output_type": "display_data"
    },
    {
     "data": {
      "text/html": [
       "<div>\n",
       "<style scoped>\n",
       "    .dataframe tbody tr th:only-of-type {\n",
       "        vertical-align: middle;\n",
       "    }\n",
       "\n",
       "    .dataframe tbody tr th {\n",
       "        vertical-align: top;\n",
       "    }\n",
       "\n",
       "    .dataframe thead th {\n",
       "        text-align: right;\n",
       "    }\n",
       "</style>\n",
       "<table border=\"1\" class=\"dataframe\">\n",
       "  <thead>\n",
       "    <tr style=\"text-align: right;\">\n",
       "      <th></th>\n",
       "      <th>user_id</th>\n",
       "      <th>score</th>\n",
       "      <th>city</th>\n",
       "      <th>gender</th>\n",
       "      <th>age</th>\n",
       "      <th>equity</th>\n",
       "      <th>balance</th>\n",
       "      <th>products</th>\n",
       "      <th>credit_card</th>\n",
       "      <th>last_activity</th>\n",
       "      <th>est_salary</th>\n",
       "      <th>churn</th>\n",
       "    </tr>\n",
       "  </thead>\n",
       "  <tbody>\n",
       "    <tr>\n",
       "      <th>1893</th>\n",
       "      <td>116540</td>\n",
       "      <td>883.0</td>\n",
       "      <td>Рыбинск</td>\n",
       "      <td>Ж</td>\n",
       "      <td>55.0</td>\n",
       "      <td>1</td>\n",
       "      <td>362756.49</td>\n",
       "      <td>3</td>\n",
       "      <td>0</td>\n",
       "      <td>1</td>\n",
       "      <td>175920.48</td>\n",
       "      <td>1</td>\n",
       "    </tr>\n",
       "    <tr>\n",
       "      <th>7694</th>\n",
       "      <td>116540</td>\n",
       "      <td>887.0</td>\n",
       "      <td>Ярославль</td>\n",
       "      <td>Ж</td>\n",
       "      <td>38.0</td>\n",
       "      <td>0</td>\n",
       "      <td>NaN</td>\n",
       "      <td>1</td>\n",
       "      <td>0</td>\n",
       "      <td>1</td>\n",
       "      <td>119247.61</td>\n",
       "      <td>0</td>\n",
       "    </tr>\n",
       "    <tr>\n",
       "      <th>7542</th>\n",
       "      <td>117943</td>\n",
       "      <td>880.0</td>\n",
       "      <td>Ярославль</td>\n",
       "      <td>Ж</td>\n",
       "      <td>40.0</td>\n",
       "      <td>0</td>\n",
       "      <td>NaN</td>\n",
       "      <td>1</td>\n",
       "      <td>1</td>\n",
       "      <td>0</td>\n",
       "      <td>137718.93</td>\n",
       "      <td>0</td>\n",
       "    </tr>\n",
       "    <tr>\n",
       "      <th>4866</th>\n",
       "      <td>117943</td>\n",
       "      <td>855.0</td>\n",
       "      <td>Рыбинск</td>\n",
       "      <td>Ж</td>\n",
       "      <td>32.0</td>\n",
       "      <td>6</td>\n",
       "      <td>1036832.93</td>\n",
       "      <td>4</td>\n",
       "      <td>1</td>\n",
       "      <td>1</td>\n",
       "      <td>107792.71</td>\n",
       "      <td>1</td>\n",
       "    </tr>\n",
       "    <tr>\n",
       "      <th>5896</th>\n",
       "      <td>120258</td>\n",
       "      <td>905.0</td>\n",
       "      <td>Ярославль</td>\n",
       "      <td>М</td>\n",
       "      <td>30.0</td>\n",
       "      <td>0</td>\n",
       "      <td>NaN</td>\n",
       "      <td>1</td>\n",
       "      <td>1</td>\n",
       "      <td>1</td>\n",
       "      <td>146427.96</td>\n",
       "      <td>0</td>\n",
       "    </tr>\n",
       "    <tr>\n",
       "      <th>5863</th>\n",
       "      <td>120258</td>\n",
       "      <td>908.0</td>\n",
       "      <td>Рыбинск</td>\n",
       "      <td>Ж</td>\n",
       "      <td>38.0</td>\n",
       "      <td>4</td>\n",
       "      <td>2213581.63</td>\n",
       "      <td>2</td>\n",
       "      <td>0</td>\n",
       "      <td>1</td>\n",
       "      <td>160327.77</td>\n",
       "      <td>1</td>\n",
       "    </tr>\n",
       "    <tr>\n",
       "      <th>1411</th>\n",
       "      <td>123461</td>\n",
       "      <td>829.0</td>\n",
       "      <td>Ярославль</td>\n",
       "      <td>Ж</td>\n",
       "      <td>59.0</td>\n",
       "      <td>0</td>\n",
       "      <td>96222.44</td>\n",
       "      <td>2</td>\n",
       "      <td>0</td>\n",
       "      <td>1</td>\n",
       "      <td>102771.55</td>\n",
       "      <td>1</td>\n",
       "    </tr>\n",
       "    <tr>\n",
       "      <th>8638</th>\n",
       "      <td>123461</td>\n",
       "      <td>934.0</td>\n",
       "      <td>Рыбинск</td>\n",
       "      <td>М</td>\n",
       "      <td>34.0</td>\n",
       "      <td>0</td>\n",
       "      <td>NaN</td>\n",
       "      <td>2</td>\n",
       "      <td>1</td>\n",
       "      <td>0</td>\n",
       "      <td>291619.27</td>\n",
       "      <td>0</td>\n",
       "    </tr>\n",
       "    <tr>\n",
       "      <th>8164</th>\n",
       "      <td>124450</td>\n",
       "      <td>859.0</td>\n",
       "      <td>Ярославль</td>\n",
       "      <td>Ж</td>\n",
       "      <td>38.0</td>\n",
       "      <td>6</td>\n",
       "      <td>516811.20</td>\n",
       "      <td>1</td>\n",
       "      <td>1</td>\n",
       "      <td>1</td>\n",
       "      <td>95144.63</td>\n",
       "      <td>1</td>\n",
       "    </tr>\n",
       "    <tr>\n",
       "      <th>9775</th>\n",
       "      <td>124450</td>\n",
       "      <td>758.0</td>\n",
       "      <td>Рыбинск</td>\n",
       "      <td>Ж</td>\n",
       "      <td>36.0</td>\n",
       "      <td>0</td>\n",
       "      <td>73574.07</td>\n",
       "      <td>2</td>\n",
       "      <td>0</td>\n",
       "      <td>1</td>\n",
       "      <td>79963.59</td>\n",
       "      <td>0</td>\n",
       "    </tr>\n",
       "  </tbody>\n",
       "</table>\n",
       "</div>"
      ],
      "text/plain": [
       "      user_id  score       city gender   age  equity     balance  products  \\\n",
       "1893   116540  883.0    Рыбинск      Ж  55.0       1   362756.49         3   \n",
       "7694   116540  887.0  Ярославль      Ж  38.0       0         NaN         1   \n",
       "7542   117943  880.0  Ярославль      Ж  40.0       0         NaN         1   \n",
       "4866   117943  855.0    Рыбинск      Ж  32.0       6  1036832.93         4   \n",
       "5896   120258  905.0  Ярославль      М  30.0       0         NaN         1   \n",
       "5863   120258  908.0    Рыбинск      Ж  38.0       4  2213581.63         2   \n",
       "1411   123461  829.0  Ярославль      Ж  59.0       0    96222.44         2   \n",
       "8638   123461  934.0    Рыбинск      М  34.0       0         NaN         2   \n",
       "8164   124450  859.0  Ярославль      Ж  38.0       6   516811.20         1   \n",
       "9775   124450  758.0    Рыбинск      Ж  36.0       0    73574.07         2   \n",
       "\n",
       "      credit_card  last_activity  est_salary  churn  \n",
       "1893            0              1   175920.48      1  \n",
       "7694            0              1   119247.61      0  \n",
       "7542            1              0   137718.93      0  \n",
       "4866            1              1   107792.71      1  \n",
       "5896            1              1   146427.96      0  \n",
       "5863            0              1   160327.77      1  \n",
       "1411            0              1   102771.55      1  \n",
       "8638            1              0   291619.27      0  \n",
       "8164            1              1    95144.63      1  \n",
       "9775            0              1    79963.59      0  "
      ]
     },
     "metadata": {},
     "output_type": "display_data"
    }
   ],
   "source": [
    "display('Количество явных дубликатов: '+str(data.duplicated().sum()))\n",
    "display('Количество неявных дубликатов: '+str(data['user_id'].duplicated().sum()))\n",
    "display(data[data['user_id'].isin(data[data['user_id'].duplicated()]['user_id'])].sort_values('user_id').head(10))"
   ]
  },
  {
   "cell_type": "markdown",
   "metadata": {},
   "source": [
    "Все эти пользователи явно разные - имеют разный пол, возраст, но всегда один в дубле из Ярославля, другой из Рыбинска. Видимо чет с базами случилось и какое-то время одинаковые id присваивали. Просто заменю все id индексами заодно дубль сделаю."
   ]
  },
  {
   "cell_type": "markdown",
   "metadata": {},
   "source": [
    "Дропнем перед этим клиента без единого продукта."
   ]
  },
  {
   "cell_type": "code",
   "execution_count": 5,
   "metadata": {},
   "outputs": [
    {
     "data": {
      "text/plain": [
       "9999"
      ]
     },
     "execution_count": 5,
     "metadata": {},
     "output_type": "execute_result"
    }
   ],
   "source": [
    "data = data.loc[data['products'] != 0]\n",
    "len(data)"
   ]
  },
  {
   "cell_type": "code",
   "execution_count": 6,
   "metadata": {
    "scrolled": false
   },
   "outputs": [
    {
     "data": {
      "text/html": [
       "<div>\n",
       "<style scoped>\n",
       "    .dataframe tbody tr th:only-of-type {\n",
       "        vertical-align: middle;\n",
       "    }\n",
       "\n",
       "    .dataframe tbody tr th {\n",
       "        vertical-align: top;\n",
       "    }\n",
       "\n",
       "    .dataframe thead th {\n",
       "        text-align: right;\n",
       "    }\n",
       "</style>\n",
       "<table border=\"1\" class=\"dataframe\">\n",
       "  <thead>\n",
       "    <tr style=\"text-align: right;\">\n",
       "      <th></th>\n",
       "      <th>user_id</th>\n",
       "      <th>score</th>\n",
       "      <th>city</th>\n",
       "      <th>gender</th>\n",
       "      <th>age</th>\n",
       "      <th>equity</th>\n",
       "      <th>balance</th>\n",
       "      <th>products</th>\n",
       "      <th>credit_card</th>\n",
       "      <th>last_activity</th>\n",
       "      <th>est_salary</th>\n",
       "      <th>churn</th>\n",
       "    </tr>\n",
       "  </thead>\n",
       "  <tbody>\n",
       "    <tr>\n",
       "      <th>0</th>\n",
       "      <td>0</td>\n",
       "      <td>850.0</td>\n",
       "      <td>Рыбинск</td>\n",
       "      <td>Ж</td>\n",
       "      <td>25.0</td>\n",
       "      <td>1</td>\n",
       "      <td>59214.82</td>\n",
       "      <td>2</td>\n",
       "      <td>0</td>\n",
       "      <td>1</td>\n",
       "      <td>75719.14</td>\n",
       "      <td>1</td>\n",
       "    </tr>\n",
       "    <tr>\n",
       "      <th>1</th>\n",
       "      <td>1</td>\n",
       "      <td>861.0</td>\n",
       "      <td>Рыбинск</td>\n",
       "      <td>Ж</td>\n",
       "      <td>37.0</td>\n",
       "      <td>5</td>\n",
       "      <td>850594.33</td>\n",
       "      <td>3</td>\n",
       "      <td>1</td>\n",
       "      <td>0</td>\n",
       "      <td>86621.77</td>\n",
       "      <td>0</td>\n",
       "    </tr>\n",
       "    <tr>\n",
       "      <th>2</th>\n",
       "      <td>2</td>\n",
       "      <td>892.0</td>\n",
       "      <td>Рыбинск</td>\n",
       "      <td>Ж</td>\n",
       "      <td>30.0</td>\n",
       "      <td>0</td>\n",
       "      <td>NaN</td>\n",
       "      <td>1</td>\n",
       "      <td>1</td>\n",
       "      <td>1</td>\n",
       "      <td>107683.34</td>\n",
       "      <td>0</td>\n",
       "    </tr>\n",
       "    <tr>\n",
       "      <th>3</th>\n",
       "      <td>3</td>\n",
       "      <td>866.0</td>\n",
       "      <td>Ярославль</td>\n",
       "      <td>Ж</td>\n",
       "      <td>51.0</td>\n",
       "      <td>5</td>\n",
       "      <td>1524746.26</td>\n",
       "      <td>2</td>\n",
       "      <td>0</td>\n",
       "      <td>1</td>\n",
       "      <td>174423.53</td>\n",
       "      <td>1</td>\n",
       "    </tr>\n",
       "    <tr>\n",
       "      <th>4</th>\n",
       "      <td>4</td>\n",
       "      <td>730.0</td>\n",
       "      <td>Ярославль</td>\n",
       "      <td>М</td>\n",
       "      <td>34.0</td>\n",
       "      <td>5</td>\n",
       "      <td>174.00</td>\n",
       "      <td>1</td>\n",
       "      <td>1</td>\n",
       "      <td>0</td>\n",
       "      <td>67353.16</td>\n",
       "      <td>1</td>\n",
       "    </tr>\n",
       "  </tbody>\n",
       "</table>\n",
       "</div>"
      ],
      "text/plain": [
       "   user_id  score       city gender   age  equity     balance  products  \\\n",
       "0        0  850.0    Рыбинск      Ж  25.0       1    59214.82         2   \n",
       "1        1  861.0    Рыбинск      Ж  37.0       5   850594.33         3   \n",
       "2        2  892.0    Рыбинск      Ж  30.0       0         NaN         1   \n",
       "3        3  866.0  Ярославль      Ж  51.0       5  1524746.26         2   \n",
       "4        4  730.0  Ярославль      М  34.0       5      174.00         1   \n",
       "\n",
       "   credit_card  last_activity  est_salary  churn  \n",
       "0            0              1    75719.14      1  \n",
       "1            1              0    86621.77      0  \n",
       "2            1              1   107683.34      0  \n",
       "3            0              1   174423.53      1  \n",
       "4            1              0    67353.16      1  "
      ]
     },
     "execution_count": 6,
     "metadata": {},
     "output_type": "execute_result"
    }
   ],
   "source": [
    "data['user_id']=data.index\n",
    "data.head(5)"
   ]
  },
  {
   "cell_type": "markdown",
   "metadata": {},
   "source": [
    "### Кодирование категориальных данных - пол, город проживания."
   ]
  },
  {
   "cell_type": "code",
   "execution_count": 7,
   "metadata": {},
   "outputs": [
    {
     "data": {
      "text/html": [
       "<div>\n",
       "<style scoped>\n",
       "    .dataframe tbody tr th:only-of-type {\n",
       "        vertical-align: middle;\n",
       "    }\n",
       "\n",
       "    .dataframe tbody tr th {\n",
       "        vertical-align: top;\n",
       "    }\n",
       "\n",
       "    .dataframe thead th {\n",
       "        text-align: right;\n",
       "    }\n",
       "</style>\n",
       "<table border=\"1\" class=\"dataframe\">\n",
       "  <thead>\n",
       "    <tr style=\"text-align: right;\">\n",
       "      <th></th>\n",
       "      <th>user_id</th>\n",
       "      <th>score</th>\n",
       "      <th>city</th>\n",
       "      <th>gender</th>\n",
       "      <th>age</th>\n",
       "      <th>equity</th>\n",
       "      <th>balance</th>\n",
       "      <th>products</th>\n",
       "      <th>credit_card</th>\n",
       "      <th>last_activity</th>\n",
       "      <th>est_salary</th>\n",
       "      <th>churn</th>\n",
       "      <th>gender_d</th>\n",
       "      <th>jaroslavl</th>\n",
       "      <th>rybinsk</th>\n",
       "      <th>rostov</th>\n",
       "    </tr>\n",
       "  </thead>\n",
       "  <tbody>\n",
       "    <tr>\n",
       "      <th>0</th>\n",
       "      <td>0</td>\n",
       "      <td>850.0</td>\n",
       "      <td>Рыбинск</td>\n",
       "      <td>Ж</td>\n",
       "      <td>25.0</td>\n",
       "      <td>1</td>\n",
       "      <td>59214.82</td>\n",
       "      <td>2</td>\n",
       "      <td>0</td>\n",
       "      <td>1</td>\n",
       "      <td>75719.14</td>\n",
       "      <td>1</td>\n",
       "      <td>0</td>\n",
       "      <td>0</td>\n",
       "      <td>1</td>\n",
       "      <td>0</td>\n",
       "    </tr>\n",
       "    <tr>\n",
       "      <th>1</th>\n",
       "      <td>1</td>\n",
       "      <td>861.0</td>\n",
       "      <td>Рыбинск</td>\n",
       "      <td>Ж</td>\n",
       "      <td>37.0</td>\n",
       "      <td>5</td>\n",
       "      <td>850594.33</td>\n",
       "      <td>3</td>\n",
       "      <td>1</td>\n",
       "      <td>0</td>\n",
       "      <td>86621.77</td>\n",
       "      <td>0</td>\n",
       "      <td>0</td>\n",
       "      <td>0</td>\n",
       "      <td>1</td>\n",
       "      <td>0</td>\n",
       "    </tr>\n",
       "    <tr>\n",
       "      <th>2</th>\n",
       "      <td>2</td>\n",
       "      <td>892.0</td>\n",
       "      <td>Рыбинск</td>\n",
       "      <td>Ж</td>\n",
       "      <td>30.0</td>\n",
       "      <td>0</td>\n",
       "      <td>NaN</td>\n",
       "      <td>1</td>\n",
       "      <td>1</td>\n",
       "      <td>1</td>\n",
       "      <td>107683.34</td>\n",
       "      <td>0</td>\n",
       "      <td>0</td>\n",
       "      <td>0</td>\n",
       "      <td>1</td>\n",
       "      <td>0</td>\n",
       "    </tr>\n",
       "    <tr>\n",
       "      <th>3</th>\n",
       "      <td>3</td>\n",
       "      <td>866.0</td>\n",
       "      <td>Ярославль</td>\n",
       "      <td>Ж</td>\n",
       "      <td>51.0</td>\n",
       "      <td>5</td>\n",
       "      <td>1524746.26</td>\n",
       "      <td>2</td>\n",
       "      <td>0</td>\n",
       "      <td>1</td>\n",
       "      <td>174423.53</td>\n",
       "      <td>1</td>\n",
       "      <td>0</td>\n",
       "      <td>1</td>\n",
       "      <td>0</td>\n",
       "      <td>0</td>\n",
       "    </tr>\n",
       "    <tr>\n",
       "      <th>4</th>\n",
       "      <td>4</td>\n",
       "      <td>730.0</td>\n",
       "      <td>Ярославль</td>\n",
       "      <td>М</td>\n",
       "      <td>34.0</td>\n",
       "      <td>5</td>\n",
       "      <td>174.00</td>\n",
       "      <td>1</td>\n",
       "      <td>1</td>\n",
       "      <td>0</td>\n",
       "      <td>67353.16</td>\n",
       "      <td>1</td>\n",
       "      <td>1</td>\n",
       "      <td>1</td>\n",
       "      <td>0</td>\n",
       "      <td>0</td>\n",
       "    </tr>\n",
       "    <tr>\n",
       "      <th>5</th>\n",
       "      <td>5</td>\n",
       "      <td>856.0</td>\n",
       "      <td>Рыбинск</td>\n",
       "      <td>М</td>\n",
       "      <td>56.0</td>\n",
       "      <td>4</td>\n",
       "      <td>863687.24</td>\n",
       "      <td>3</td>\n",
       "      <td>1</td>\n",
       "      <td>0</td>\n",
       "      <td>156619.80</td>\n",
       "      <td>0</td>\n",
       "      <td>1</td>\n",
       "      <td>0</td>\n",
       "      <td>1</td>\n",
       "      <td>0</td>\n",
       "    </tr>\n",
       "    <tr>\n",
       "      <th>6</th>\n",
       "      <td>6</td>\n",
       "      <td>807.0</td>\n",
       "      <td>Ярославль</td>\n",
       "      <td>Ж</td>\n",
       "      <td>39.0</td>\n",
       "      <td>3</td>\n",
       "      <td>405042.44</td>\n",
       "      <td>3</td>\n",
       "      <td>0</td>\n",
       "      <td>1</td>\n",
       "      <td>103838.32</td>\n",
       "      <td>0</td>\n",
       "      <td>0</td>\n",
       "      <td>1</td>\n",
       "      <td>0</td>\n",
       "      <td>0</td>\n",
       "    </tr>\n",
       "    <tr>\n",
       "      <th>7</th>\n",
       "      <td>7</td>\n",
       "      <td>825.0</td>\n",
       "      <td>Ярославль</td>\n",
       "      <td>Ж</td>\n",
       "      <td>38.0</td>\n",
       "      <td>4</td>\n",
       "      <td>458145.40</td>\n",
       "      <td>2</td>\n",
       "      <td>1</td>\n",
       "      <td>1</td>\n",
       "      <td>68085.48</td>\n",
       "      <td>0</td>\n",
       "      <td>0</td>\n",
       "      <td>1</td>\n",
       "      <td>0</td>\n",
       "      <td>0</td>\n",
       "    </tr>\n",
       "    <tr>\n",
       "      <th>8</th>\n",
       "      <td>8</td>\n",
       "      <td>923.0</td>\n",
       "      <td>Ярославль</td>\n",
       "      <td>М</td>\n",
       "      <td>54.0</td>\n",
       "      <td>5</td>\n",
       "      <td>1206337.87</td>\n",
       "      <td>2</td>\n",
       "      <td>1</td>\n",
       "      <td>0</td>\n",
       "      <td>155371.79</td>\n",
       "      <td>0</td>\n",
       "      <td>1</td>\n",
       "      <td>1</td>\n",
       "      <td>0</td>\n",
       "      <td>0</td>\n",
       "    </tr>\n",
       "    <tr>\n",
       "      <th>9</th>\n",
       "      <td>9</td>\n",
       "      <td>906.0</td>\n",
       "      <td>Ярославль</td>\n",
       "      <td>Ж</td>\n",
       "      <td>67.0</td>\n",
       "      <td>0</td>\n",
       "      <td>NaN</td>\n",
       "      <td>1</td>\n",
       "      <td>0</td>\n",
       "      <td>1</td>\n",
       "      <td>238055.53</td>\n",
       "      <td>0</td>\n",
       "      <td>0</td>\n",
       "      <td>1</td>\n",
       "      <td>0</td>\n",
       "      <td>0</td>\n",
       "    </tr>\n",
       "  </tbody>\n",
       "</table>\n",
       "</div>"
      ],
      "text/plain": [
       "   user_id  score       city gender   age  equity     balance  products  \\\n",
       "0        0  850.0    Рыбинск      Ж  25.0       1    59214.82         2   \n",
       "1        1  861.0    Рыбинск      Ж  37.0       5   850594.33         3   \n",
       "2        2  892.0    Рыбинск      Ж  30.0       0         NaN         1   \n",
       "3        3  866.0  Ярославль      Ж  51.0       5  1524746.26         2   \n",
       "4        4  730.0  Ярославль      М  34.0       5      174.00         1   \n",
       "5        5  856.0    Рыбинск      М  56.0       4   863687.24         3   \n",
       "6        6  807.0  Ярославль      Ж  39.0       3   405042.44         3   \n",
       "7        7  825.0  Ярославль      Ж  38.0       4   458145.40         2   \n",
       "8        8  923.0  Ярославль      М  54.0       5  1206337.87         2   \n",
       "9        9  906.0  Ярославль      Ж  67.0       0         NaN         1   \n",
       "\n",
       "   credit_card  last_activity  est_salary  churn  gender_d  jaroslavl  \\\n",
       "0            0              1    75719.14      1         0          0   \n",
       "1            1              0    86621.77      0         0          0   \n",
       "2            1              1   107683.34      0         0          0   \n",
       "3            0              1   174423.53      1         0          1   \n",
       "4            1              0    67353.16      1         1          1   \n",
       "5            1              0   156619.80      0         1          0   \n",
       "6            0              1   103838.32      0         0          1   \n",
       "7            1              1    68085.48      0         0          1   \n",
       "8            1              0   155371.79      0         1          1   \n",
       "9            0              1   238055.53      0         0          1   \n",
       "\n",
       "   rybinsk  rostov  \n",
       "0        1       0  \n",
       "1        1       0  \n",
       "2        1       0  \n",
       "3        0       0  \n",
       "4        0       0  \n",
       "5        1       0  \n",
       "6        0       0  \n",
       "7        0       0  \n",
       "8        0       0  \n",
       "9        0       0  "
      ]
     },
     "execution_count": 7,
     "metadata": {},
     "output_type": "execute_result"
    }
   ],
   "source": [
    "data['gender_d'] = data.apply(lambda x: 1 if x[\"gender\"]=='М' else 0, axis=1)\n",
    "data['jaroslavl'] = data.apply(lambda x: 1 if x[\"city\"]=='Ярославль' else 0, axis=1)\n",
    "data['rybinsk'] = data.apply(lambda x: 1 if x[\"city\"]=='Рыбинск' else 0, axis=1)\n",
    "data['rostov'] = data.apply(lambda x: 1 if x[\"city\"]=='Ростов' else 0, axis=1)\n",
    "data.head(10)"
   ]
  },
  {
   "cell_type": "markdown",
   "metadata": {},
   "source": [
    "### Проверка пропусков, принятие решение о действиях."
   ]
  },
  {
   "cell_type": "code",
   "execution_count": 8,
   "metadata": {},
   "outputs": [
    {
     "data": {
      "text/plain": [
       "user_id             0\n",
       "score               0\n",
       "city                0\n",
       "gender              0\n",
       "age                26\n",
       "equity              0\n",
       "balance          2294\n",
       "products            0\n",
       "credit_card         0\n",
       "last_activity       0\n",
       "est_salary          0\n",
       "churn               0\n",
       "gender_d            0\n",
       "jaroslavl           0\n",
       "rybinsk             0\n",
       "rostov              0\n",
       "dtype: int64"
      ]
     },
     "execution_count": 8,
     "metadata": {},
     "output_type": "execute_result"
    }
   ],
   "source": [
    "data.isna().sum()"
   ]
  },
  {
   "cell_type": "markdown",
   "metadata": {},
   "source": [
    "На фоне 10 000 записей 2295 пропущенных баланса это очень плохо. 26 пропущенных полов это не слишком важно. Отсутствие пола оставляем как есть - на статистику не будет сильно влиять. С балансом проверим корреляции. Для полноты картины добавим еще столбец с кодом 1 если баланс есть и кодом 0 если пропуск."
   ]
  },
  {
   "cell_type": "code",
   "execution_count": 9,
   "metadata": {},
   "outputs": [
    {
     "data": {
      "text/plain": [
       "<AxesSubplot:>"
      ]
     },
     "execution_count": 9,
     "metadata": {},
     "output_type": "execute_result"
    },
    {
     "data": {
      "image/png": "[encoded data removed]",
      "text/plain": [
       "<Figure size 640x480 with 2 Axes>"
      ]
     },
     "metadata": {},
     "output_type": "display_data"
    }
   ],
   "source": [
    "data['balance_exist']=~data['balance'].isna()*1\n",
    "sns.heatmap(data.corr().loc[:,['balance','balance_exist']].drop(['balance_exist', 'balance']).sort_values('balance_exist'), annot=True, fmt='.0%', cmap='vlag', center=0)"
   ]
  },
  {
   "cell_type": "markdown",
   "metadata": {},
   "source": [
    "Видно, что баланс коррелирует с equity, score, est_salary. Balance_exist с equity, products, churn, est_salary. Корреляции разнонаправленные и разной силы, но суть в том, что balance - MNAR (Missing Not At Random / Отсутствует не случайно). Значит заполнять его чем-либо не стоит.\n",
    "В чем причина пропусков - тем не менее не ясно. Можно лишь сказать, что у кого нет собственности нет и баланса, кто использует"
   ]
  },
  {
   "cell_type": "markdown",
   "metadata": {},
   "source": [
    "##  Промежуточный вывод\n",
    "\n",
    "__Исходные данные__\n",
    "Нам предоставлена таблица с данными о клиентах Метанпромбанка, включающие в себя следующие параметры:\n",
    "\n",
    "    user_id\t- уникальный номер клиента\n",
    "    score - кредитный скоринг клиента полученный из бюро кредитных историй на момент запроса (м.б. не актуален)\n",
    "    city - город проживания\n",
    "    gender - пол, кодированный буквами М и Ж\n",
    "    age\t- возраст в годах\n",
    "    equity - оценка собственности, выполненная косвенным образом\n",
    "    balance - баланс клиента по всем счетам в банке\n",
    "    products - количество продуктов, которыми клиент пользуется в банке\n",
    "    credit_card - пользуется ли клиент кредитной картой\n",
    "    last_activity - является ли клиент активным\n",
    "    est_salary - оценочный доход клиента, определенный косвенным образом\n",
    "    churn - показатель лояльности клиента 1 - планирует уйти, 0 - лоялен.\n",
    "\n",
    "В таблице 10 000 записей, что соответствует 10 000 клиентов. Скорее всего это не все клиенты банка, т.е. мы имеем дело не с генеральной совокупностью, а с выборкой.\n",
    "\n",
    "__На этапе предварительной обработки данных:__\n",
    "\n",
    "Заголовки полей приведены к стандарту\n",
    "\n",
    "Выявлено 26 пропусков в поле возраст и 2295 пропуска в поле баланс.\n",
    "    \n",
    "    Пропуски в поле возраст проигнорированы поскольку их немного и сильно они на результат повлиять не могут.\n",
    "    Пропуски в поле баланса так же проигнорированы. Поскольку выбросить 20% данных некорректно а заменить их корректно, без искажения статистики невозможно.\n",
    "    \n",
    "Явных дубликатов не выявлено.\n",
    "\n",
    "Обнаружено 73 неявных дубликата в поле user_id связанные с тем, что в городах Ярославль и Рыбинск некоторым пользователям присваивались одинаковые user_id. Возможно какое-то временное рассогласование баз данных. В связи с этим user_id заменены на индексы.\n",
    "\n",
    "Проведено кодирование данных пола и города - введены поля gender_d (мужской пол - 1, женский - 0), jaroslavl - (проживает в Ярославле - 1, нет - 0), rybinsk - (проживает в Рыбинске - 1, нет - 0), rostov - (проживает в Ростове - 1, нет - 0)."
   ]
  },
  {
   "cell_type": "markdown",
   "metadata": {},
   "source": [
    "## Исследовательский анализ данных."
   ]
  },
  {
   "cell_type": "code",
   "execution_count": 10,
   "metadata": {},
   "outputs": [
    {
     "data": {
      "text/html": [
       "<div>\n",
       "<style scoped>\n",
       "    .dataframe tbody tr th:only-of-type {\n",
       "        vertical-align: middle;\n",
       "    }\n",
       "\n",
       "    .dataframe tbody tr th {\n",
       "        vertical-align: top;\n",
       "    }\n",
       "\n",
       "    .dataframe thead th {\n",
       "        text-align: right;\n",
       "    }\n",
       "</style>\n",
       "<table border=\"1\" class=\"dataframe\">\n",
       "  <thead>\n",
       "    <tr style=\"text-align: right;\">\n",
       "      <th></th>\n",
       "      <th>churn</th>\n",
       "    </tr>\n",
       "  </thead>\n",
       "  <tbody>\n",
       "    <tr>\n",
       "      <th>доля уходящих</th>\n",
       "      <td>0.18</td>\n",
       "    </tr>\n",
       "    <tr>\n",
       "      <th>количество уходящих</th>\n",
       "      <td>1,819.00</td>\n",
       "    </tr>\n",
       "    <tr>\n",
       "      <th>всего в выборке</th>\n",
       "      <td>9,999.00</td>\n",
       "    </tr>\n",
       "  </tbody>\n",
       "</table>\n",
       "</div>"
      ],
      "text/plain": [
       "                       churn\n",
       "доля уходящих           0.18\n",
       "количество уходящих 1,819.00\n",
       "всего в выборке     9,999.00"
      ]
     },
     "execution_count": 10,
     "metadata": {},
     "output_type": "execute_result"
    }
   ],
   "source": [
    "churn_share=data['churn'].sum()/len(data)\n",
    "churn_num=data['churn'].sum()\n",
    "pd.options.display.float_format ='{:,.2f}'.format\n",
    "data.agg({\"churn\":[\"mean\",\"sum\",\"count\"]}).rename({'mean': 'доля уходящих', 'sum': 'количество уходящих', 'count': 'всего в выборке'}, axis='index')"
   ]
  },
  {
   "cell_type": "markdown",
   "metadata": {},
   "source": [
    "### Разделение параметров на непрерывные (score, age, balance, est_salary), дискретные (city, gender, equiity, products, credit card, last_activity)."
   ]
  },
  {
   "cell_type": "markdown",
   "metadata": {},
   "source": [
    "### Для непрерывных - строим сравнительные нормированные гистограммы в разрезе параметра churn и ящики с усами. Определяем интервалы значений, характерные величины (медиана/среднее и т.п.). Определяем диапазоны параметра, характерные для отточных клиентов."
   ]
  },
  {
   "cell_type": "code",
   "execution_count": 11,
   "metadata": {},
   "outputs": [
    {
     "data": {
      "image/png": "[encoded data removed]",
      "text/plain": [
       "<Figure size 640x480 with 1 Axes>"
      ]
     },
     "metadata": {},
     "output_type": "display_data"
    },
    {
     "data": {
      "image/png": "[encoded data removed]",
      "text/plain": [
       "<Figure size 640x480 with 1 Axes>"
      ]
     },
     "metadata": {},
     "output_type": "display_data"
    },
    {
     "data": {
      "text/html": [
       "<div>\n",
       "<style scoped>\n",
       "    .dataframe tbody tr th:only-of-type {\n",
       "        vertical-align: middle;\n",
       "    }\n",
       "\n",
       "    .dataframe tbody tr th {\n",
       "        vertical-align: top;\n",
       "    }\n",
       "\n",
       "    .dataframe thead th {\n",
       "        text-align: right;\n",
       "    }\n",
       "</style>\n",
       "<table border=\"1\" class=\"dataframe\">\n",
       "  <thead>\n",
       "    <tr style=\"text-align: right;\">\n",
       "      <th></th>\n",
       "      <th>churn</th>\n",
       "    </tr>\n",
       "  </thead>\n",
       "  <tbody>\n",
       "    <tr>\n",
       "      <th>доля уходящих</th>\n",
       "      <td>0.24</td>\n",
       "    </tr>\n",
       "    <tr>\n",
       "      <th>количество уходящих</th>\n",
       "      <td>1,170.00</td>\n",
       "    </tr>\n",
       "    <tr>\n",
       "      <th>всего в выборке</th>\n",
       "      <td>4,969.00</td>\n",
       "    </tr>\n",
       "  </tbody>\n",
       "</table>\n",
       "</div>"
      ],
      "text/plain": [
       "                       churn\n",
       "доля уходящих           0.24\n",
       "количество уходящих 1,170.00\n",
       "всего в выборке     4,969.00"
      ]
     },
     "execution_count": 11,
     "metadata": {},
     "output_type": "execute_result"
    }
   ],
   "source": [
    "ax = sns.kdeplot(data=data, x='score', hue='churn', common_norm=False)\n",
    "plt.legend(loc='upper right', labels=['Уходят', 'Остаются'])\n",
    "ax.set_title('Распределения по скорингу')\n",
    "rect = patches.Rectangle((820, 0), 95, 0.008, linewidth=1, facecolor='yellow')\n",
    "ax.add_patch(rect)\n",
    "ax.set(xlabel='Скоринг', ylabel='доля')\n",
    "sns.despine(fig=None, ax=ax, top=True, right=True, left=False, bottom=False, offset=None, trim=False)\n",
    "plt.show(ax)\n",
    "ax = sns.boxplot(data=data, y='score', x='churn')\n",
    "ax.set_title('Диаграмма ящик с усами по скорингу')\n",
    "ax.set(xlabel='Признак отточности', ylabel='Кредитный скоринг балл')\n",
    "sns.despine(fig=None, ax=ax, top=True, right=True, left=False, bottom=False, offset=None, trim=False)\n",
    "plt.show(ax)\n",
    "data.query('score>820 and score<915').agg({\"churn\":[\"mean\",\"sum\",\"count\"]}).rename({'mean': 'доля уходящих', 'sum': 'количество уходящих', 'count': 'всего в выборке'}, axis='index')"
   ]
  },
  {
   "cell_type": "markdown",
   "metadata": {},
   "source": [
    "Минимальный скоринг 642, максимальный 1000. Средний и медианный скоринги почти совпадают 853 и 848 соответственно.\n",
    "\n",
    "Диаграмма \"ящик с усами\" показывает, что медианный скоринг у лояльных клиентов выше\n",
    "\n",
    "Из 4969 человек, имеющих скоринг 820-915 баллов, 1170 человек планируют уйти. Это 23%."
   ]
  },
  {
   "cell_type": "code",
   "execution_count": 12,
   "metadata": {},
   "outputs": [
    {
     "data": {
      "image/png": "[encoded data removed]",
      "text/plain": [
       "<Figure size 640x480 with 1 Axes>"
      ]
     },
     "metadata": {},
     "output_type": "display_data"
    },
    {
     "data": {
      "image/png": "[encoded data removed]",
      "text/plain": [
       "<Figure size 640x480 with 1 Axes>"
      ]
     },
     "metadata": {},
     "output_type": "display_data"
    },
    {
     "data": {
      "text/html": [
       "<div>\n",
       "<style scoped>\n",
       "    .dataframe tbody tr th:only-of-type {\n",
       "        vertical-align: middle;\n",
       "    }\n",
       "\n",
       "    .dataframe tbody tr th {\n",
       "        vertical-align: top;\n",
       "    }\n",
       "\n",
       "    .dataframe thead th {\n",
       "        text-align: right;\n",
       "    }\n",
       "</style>\n",
       "<table border=\"1\" class=\"dataframe\">\n",
       "  <thead>\n",
       "    <tr style=\"text-align: right;\">\n",
       "      <th></th>\n",
       "      <th>churn</th>\n",
       "    </tr>\n",
       "  </thead>\n",
       "  <tbody>\n",
       "    <tr>\n",
       "      <th>доля уходящих</th>\n",
       "      <td>0.23</td>\n",
       "    </tr>\n",
       "    <tr>\n",
       "      <th>количество уходящих</th>\n",
       "      <td>1,081.00</td>\n",
       "    </tr>\n",
       "    <tr>\n",
       "      <th>всего в выборке</th>\n",
       "      <td>4,604.00</td>\n",
       "    </tr>\n",
       "  </tbody>\n",
       "</table>\n",
       "</div>"
      ],
      "text/plain": [
       "                       churn\n",
       "доля уходящих           0.23\n",
       "количество уходящих 1,081.00\n",
       "всего в выборке     4,604.00"
      ]
     },
     "metadata": {},
     "output_type": "display_data"
    }
   ],
   "source": [
    "ax = sns.kdeplot(data=data, x='age', hue='churn', common_norm=False)\n",
    "plt.legend(loc='upper right', labels=['Уходят', 'Остаются'])\n",
    "ax.set_title('Распределения по возрасту')\n",
    "rect = patches.Rectangle((21, 0), 14, 0.04, linewidth=1, facecolor='yellow')\n",
    "ax.add_patch(rect)\n",
    "rect = patches.Rectangle((49, 0), 12, 0.04, linewidth=1, facecolor='yellow')\n",
    "ax.add_patch(rect)\n",
    "ax.set(xlabel='Возраст', ylabel='доля')\n",
    "sns.despine(fig=None, ax=ax, top=True, right=True, left=False, bottom=False, offset=None, trim=False)\n",
    "plt.show(ax)\n",
    "ax = sns.boxplot(data=data, y='age', x='churn')\n",
    "ax.set_title('Диаграмма ящик с усами по возрасту')\n",
    "ax.set(xlabel='Признак отточности', ylabel='Возраст')\n",
    "sns.despine(fig=None, ax=ax, top=True, right=True, left=False, bottom=False, offset=None, trim=False)\n",
    "plt.show(ax)\n",
    "display(data.query('21<age<35 or 49<age<61').agg({\"churn\":[\"mean\",\"sum\",\"count\"]}).rename({'mean': 'доля уходящих', 'sum': 'количество уходящих', 'count': 'всего в выборке'}, axis='index'))"
   ]
  },
  {
   "cell_type": "markdown",
   "metadata": {},
   "source": [
    "Минимальный возраст 18, максимальный 86, медианный и средний мало отличаются - 40 и 43 соответственно.\n",
    "\n",
    "Диаграмма \"ящик с усами\" показывает наличие выбросов среди нелояльных клиентов (имхо сложно назвать возраст выбросом, но как есть). Медианный возраст по ящикам выше у нелояльных клиентов.\n",
    "\n",
    "Из 4604 человек, в возрасте 21-35 или 49-61, 1081 человек планируют уйти. Это 23 %."
   ]
  },
  {
   "cell_type": "code",
   "execution_count": 13,
   "metadata": {},
   "outputs": [
    {
     "data": {
      "image/png": "[encoded data removed]",
      "text/plain": [
       "<Figure size 640x480 with 1 Axes>"
      ]
     },
     "metadata": {},
     "output_type": "display_data"
    },
    {
     "data": {
      "image/png": "[encoded data removed]",
      "text/plain": [
       "<Figure size 640x480 with 1 Axes>"
      ]
     },
     "metadata": {},
     "output_type": "display_data"
    },
    {
     "data": {
      "text/html": [
       "<div>\n",
       "<style scoped>\n",
       "    .dataframe tbody tr th:only-of-type {\n",
       "        vertical-align: middle;\n",
       "    }\n",
       "\n",
       "    .dataframe tbody tr th {\n",
       "        vertical-align: top;\n",
       "    }\n",
       "\n",
       "    .dataframe thead th {\n",
       "        text-align: right;\n",
       "    }\n",
       "</style>\n",
       "<table border=\"1\" class=\"dataframe\">\n",
       "  <thead>\n",
       "    <tr style=\"text-align: right;\">\n",
       "      <th></th>\n",
       "      <th>churn</th>\n",
       "    </tr>\n",
       "  </thead>\n",
       "  <tbody>\n",
       "    <tr>\n",
       "      <th>доля уходящих</th>\n",
       "      <td>0.38</td>\n",
       "    </tr>\n",
       "    <tr>\n",
       "      <th>количество уходящих</th>\n",
       "      <td>722.00</td>\n",
       "    </tr>\n",
       "    <tr>\n",
       "      <th>всего в выборке</th>\n",
       "      <td>1,876.00</td>\n",
       "    </tr>\n",
       "  </tbody>\n",
       "</table>\n",
       "</div>"
      ],
      "text/plain": [
       "                       churn\n",
       "доля уходящих           0.38\n",
       "количество уходящих   722.00\n",
       "всего в выборке     1,876.00"
      ]
     },
     "execution_count": 13,
     "metadata": {},
     "output_type": "execute_result"
    }
   ],
   "source": [
    "ax = sns.kdeplot(data=data, x='balance', hue='churn', common_norm=False)\n",
    "plt.legend(loc='upper right', labels=['Уходят', 'Остаются'])\n",
    "ax.set_title('Распределения балансу')\n",
    "rect = patches.Rectangle((1000000, 0), 4000000, 0.0000007, linewidth=1, facecolor='yellow')\n",
    "ax.add_patch(rect)\n",
    "ax.set(xlabel='Баланс', ylabel='доля')\n",
    "ax.set_xlim(0, 10000000)\n",
    "sns.despine(fig=None, ax=ax, top=True, right=True, left=False, bottom=False, offset=None, trim=False)\n",
    "plt.show(ax)\n",
    "ax = sns.boxplot(data=data, y='balance', x='churn')\n",
    "ax.set_title('Диаграмма ящик с усами по балансу')\n",
    "ax.set_ylim([0, 4000000])\n",
    "ax.set(xlabel='Признак отточности', ylabel='Баланс')\n",
    "sns.despine(fig=None, ax=ax, top=True, right=True, left=False, bottom=False, offset=None, trim=False)\n",
    "plt.show(ax)\n",
    "data.query('1000000<balance').agg({\"churn\":[\"mean\",\"sum\",\"count\"]}).rename({'mean': 'доля уходящих', 'sum': 'количество уходящих', 'count': 'всего в выборке'}, axis='index')"
   ]
  },
  {
   "cell_type": "markdown",
   "metadata": {},
   "source": [
    "###### Минимальный баланс 0, максимальный 100 млн., медианный и средний сильно отличаются - 500 тыр и 800 тыр соответственно.\n",
    "\n",
    "Диаграмма \"ящик с усами\" так же показывает наличие значительного количества выбросов.\n",
    "\n",
    "Из 1876 человек, имеющих на балансе от 1 млн у.е., 722 человек планируют уйти. Это 38 %."
   ]
  },
  {
   "cell_type": "code",
   "execution_count": 14,
   "metadata": {},
   "outputs": [
    {
     "data": {
      "image/png": "[encoded data removed]",
      "text/plain": [
       "<Figure size 640x480 with 1 Axes>"
      ]
     },
     "metadata": {},
     "output_type": "display_data"
    },
    {
     "data": {
      "image/png": "[encoded data removed]",
      "text/plain": [
       "<Figure size 640x480 with 1 Axes>"
      ]
     },
     "metadata": {},
     "output_type": "display_data"
    },
    {
     "data": {
      "text/plain": [
       "''"
      ]
     },
     "metadata": {},
     "output_type": "display_data"
    },
    {
     "data": {
      "text/plain": [
       "'Количество и доля уходящих с доходом в диапазоне 95 - 245 тыс. руб.'"
      ]
     },
     "metadata": {},
     "output_type": "display_data"
    },
    {
     "data": {
      "text/html": [
       "<div>\n",
       "<style scoped>\n",
       "    .dataframe tbody tr th:only-of-type {\n",
       "        vertical-align: middle;\n",
       "    }\n",
       "\n",
       "    .dataframe tbody tr th {\n",
       "        vertical-align: top;\n",
       "    }\n",
       "\n",
       "    .dataframe thead th {\n",
       "        text-align: right;\n",
       "    }\n",
       "</style>\n",
       "<table border=\"1\" class=\"dataframe\">\n",
       "  <thead>\n",
       "    <tr style=\"text-align: right;\">\n",
       "      <th></th>\n",
       "      <th>churn</th>\n",
       "    </tr>\n",
       "  </thead>\n",
       "  <tbody>\n",
       "    <tr>\n",
       "      <th>доля уходящих</th>\n",
       "      <td>0.20</td>\n",
       "    </tr>\n",
       "    <tr>\n",
       "      <th>количество уходящих</th>\n",
       "      <td>1,074.00</td>\n",
       "    </tr>\n",
       "    <tr>\n",
       "      <th>всего в выборке</th>\n",
       "      <td>5,393.00</td>\n",
       "    </tr>\n",
       "  </tbody>\n",
       "</table>\n",
       "</div>"
      ],
      "text/plain": [
       "                       churn\n",
       "доля уходящих           0.20\n",
       "количество уходящих 1,074.00\n",
       "всего в выборке     5,393.00"
      ]
     },
     "execution_count": 14,
     "metadata": {},
     "output_type": "execute_result"
    }
   ],
   "source": [
    "ax = sns.kdeplot(data=data, x='est_salary', hue='churn', common_norm=False)\n",
    "plt.legend(loc='upper right', labels=['Уходят', 'Остаются'])\n",
    "ax.set_title('Распределения доходу')\n",
    "rect = patches.Rectangle((95000, 0), 150000, 0.00005, linewidth=1, facecolor='yellow')\n",
    "ax.add_patch(rect)\n",
    "ax.set(xlabel='Доход', ylabel='доля')\n",
    "ax.set_xlim(0, 600000)\n",
    "sns.despine(fig=None, ax=ax, top=True, right=True, left=False, bottom=False, offset=None, trim=False)\n",
    "plt.show(ax)\n",
    "ax = sns.boxplot(data=data, y='est_salary', x='churn')\n",
    "ax.set_title('Диаграмма ящик с усами по доходу')\n",
    "ax.set(xlabel='Признак отточности', ylabel='Доход')\n",
    "ax.set_ylim([0, 400000])\n",
    "sns.despine(fig=None, ax=ax, top=True, right=True, left=False, bottom=False, offset=None, trim=False)\n",
    "plt.show(ax)\n",
    "display('')\n",
    "display('Количество и доля уходящих с доходом в диапазоне 95 - 245 тыс. руб.')\n",
    "data.query('95000<est_salary<245000').agg({\"churn\":[\"mean\",\"sum\",\"count\"]}).rename({'mean': 'доля уходящих', 'sum': 'количество уходящих', 'count': 'всего в выборке'}, axis='index')"
   ]
  },
  {
   "cell_type": "markdown",
   "metadata": {},
   "source": [
    "Предполагаемый доход варьируется от 2 500 до 1.4 млн, медианный и средний сильно отличаются ~100 тыр против ~150 тыр. Минимальный доход мал, но поскольку это оценочное значение пока игнорируем этот факт.\n",
    "\n",
    "Диаграмма \"ящик с усами\" показывает, что в выборке значительное количество выбросов. Медианные значения немного отличаются.\n",
    "\n",
    "Из 5393 человек, имеющих доход от 95 до 245 тыс. руб., 1074 человек планируют уйти. Это 20 %, чуть больше среднего."
   ]
  },
  {
   "cell_type": "markdown",
   "metadata": {},
   "source": [
    "### Для категориальных параметров определяем для каждого значения величину группы и долю клиентов с churn==1. Таблица + столбчатый график."
   ]
  },
  {
   "cell_type": "code",
   "execution_count": 15,
   "metadata": {},
   "outputs": [
    {
     "data": {
      "image/png": "[encoded data removed]",
      "text/plain": [
       "<Figure size 640x480 with 1 Axes>"
      ]
     },
     "metadata": {},
     "output_type": "display_data"
    },
    {
     "data": {
      "text/html": [
       "<div>\n",
       "<style scoped>\n",
       "    .dataframe tbody tr th:only-of-type {\n",
       "        vertical-align: middle;\n",
       "    }\n",
       "\n",
       "    .dataframe tbody tr th {\n",
       "        vertical-align: top;\n",
       "    }\n",
       "\n",
       "    .dataframe thead th {\n",
       "        text-align: right;\n",
       "    }\n",
       "</style>\n",
       "<table border=\"1\" class=\"dataframe\">\n",
       "  <thead>\n",
       "    <tr style=\"text-align: right;\">\n",
       "      <th></th>\n",
       "      <th>доля уходящих</th>\n",
       "      <th>количество уходящих</th>\n",
       "      <th>всего в выборке</th>\n",
       "    </tr>\n",
       "    <tr>\n",
       "      <th>city</th>\n",
       "      <th></th>\n",
       "      <th></th>\n",
       "      <th></th>\n",
       "    </tr>\n",
       "  </thead>\n",
       "  <tbody>\n",
       "    <tr>\n",
       "      <th>Ростов</th>\n",
       "      <td>0.19</td>\n",
       "      <td>266</td>\n",
       "      <td>1417</td>\n",
       "    </tr>\n",
       "    <tr>\n",
       "      <th>Рыбинск</th>\n",
       "      <td>0.16</td>\n",
       "      <td>436</td>\n",
       "      <td>2694</td>\n",
       "    </tr>\n",
       "    <tr>\n",
       "      <th>Ярославль</th>\n",
       "      <td>0.19</td>\n",
       "      <td>1117</td>\n",
       "      <td>5888</td>\n",
       "    </tr>\n",
       "  </tbody>\n",
       "</table>\n",
       "</div>"
      ],
      "text/plain": [
       "           доля уходящих  количество уходящих  всего в выборке\n",
       "city                                                          \n",
       "Ростов              0.19                  266             1417\n",
       "Рыбинск             0.16                  436             2694\n",
       "Ярославль           0.19                 1117             5888"
      ]
     },
     "execution_count": 15,
     "metadata": {},
     "output_type": "execute_result"
    }
   ],
   "source": [
    "gender_tab=data.groupby('city').agg({\"churn\":[\"mean\",\"sum\",\"count\"]})\n",
    "gender_tab.columns=['доля уходящих', 'количество уходящих', 'всего в выборке']\n",
    "ax=sns.barplot(data=gender_tab, y=gender_tab.index, x='доля уходящих', orient = 'h')\n",
    "ax.bar_label(ax.containers[0], labels=gender_tab['всего в выборке'])\n",
    "ax.set (xlabel='Доля нелояльных', ylabel='Город', \n",
    "        title='Доля нелояльных клиентов в зависимости от\\n города проживания')\n",
    "sns.despine(fig=None, ax=ax, top=True, right=True, left=False, bottom=False, offset=None, trim=False)\n",
    "plt.axvline(x=churn_share, color='r')\n",
    "plt.show(ax)\n",
    "gender_tab"
   ]
  },
  {
   "cell_type": "markdown",
   "metadata": {},
   "source": [
    "В Ростове и Ярославле относительный отток выше среднего, в Рыбинске - ниже среднего. Но не сильно. Визуально плохой критерий. Но нужно учитывать, что в Ярославле 5888 клиентов в отличие от Ростова (1417) и Рыбинска (2695) и больше половины всех оттекающих живут в Ярославле."
   ]
  },
  {
   "cell_type": "code",
   "execution_count": 16,
   "metadata": {
    "scrolled": true
   },
   "outputs": [
    {
     "data": {
      "text/html": [
       "<div>\n",
       "<style scoped>\n",
       "    .dataframe tbody tr th:only-of-type {\n",
       "        vertical-align: middle;\n",
       "    }\n",
       "\n",
       "    .dataframe tbody tr th {\n",
       "        vertical-align: top;\n",
       "    }\n",
       "\n",
       "    .dataframe thead th {\n",
       "        text-align: right;\n",
       "    }\n",
       "</style>\n",
       "<table border=\"1\" class=\"dataframe\">\n",
       "  <thead>\n",
       "    <tr style=\"text-align: right;\">\n",
       "      <th></th>\n",
       "      <th>доля уходящих</th>\n",
       "      <th>количество уходящих</th>\n",
       "      <th>всего в выборке</th>\n",
       "    </tr>\n",
       "    <tr>\n",
       "      <th>gender</th>\n",
       "      <th></th>\n",
       "      <th></th>\n",
       "      <th></th>\n",
       "    </tr>\n",
       "  </thead>\n",
       "  <tbody>\n",
       "    <tr>\n",
       "      <th>Ж</th>\n",
       "      <td>0.13</td>\n",
       "      <td>636</td>\n",
       "      <td>4994</td>\n",
       "    </tr>\n",
       "    <tr>\n",
       "      <th>М</th>\n",
       "      <td>0.24</td>\n",
       "      <td>1183</td>\n",
       "      <td>5005</td>\n",
       "    </tr>\n",
       "  </tbody>\n",
       "</table>\n",
       "</div>"
      ],
      "text/plain": [
       "        доля уходящих  количество уходящих  всего в выборке\n",
       "gender                                                     \n",
       "Ж                0.13                  636             4994\n",
       "М                0.24                 1183             5005"
      ]
     },
     "execution_count": 16,
     "metadata": {},
     "output_type": "execute_result"
    },
    {
     "data": {
      "image/png": "[encoded data removed]",
      "text/plain": [
       "<Figure size 640x480 with 1 Axes>"
      ]
     },
     "metadata": {},
     "output_type": "display_data"
    }
   ],
   "source": [
    "gender_tab=data.groupby('gender').agg({\"churn\":[\"mean\",\"sum\",\"count\"]})\n",
    "gender_tab.columns=['доля уходящих', 'количество уходящих', 'всего в выборке']\n",
    "ax=sns.barplot(data=gender_tab, y=gender_tab.index, x='доля уходящих', orient = 'h')\n",
    "ax.bar_label(ax.containers[0], labels=gender_tab['всего в выборке'])\n",
    "ax.set (xlabel='Доля нелояльных', ylabel='Пол', \n",
    "        title='Доля нелояльных клиентов в зависимости от\\n пола')\n",
    "sns.despine(fig=None, ax=ax, top=True, right=True, left=False, bottom=False, offset=None, trim=False)\n",
    "plt.axvline(x=churn_share, color='r')\n",
    "gender_tab"
   ]
  },
  {
   "cell_type": "markdown",
   "metadata": {},
   "source": [
    "В данных количество мужчин и женщин практически одинаковое, при этом отток мужчин выше среднего, женщин - ниже среднего. Почти 2/3 уходящих - мужчины."
   ]
  },
  {
   "cell_type": "code",
   "execution_count": 17,
   "metadata": {
    "scrolled": true
   },
   "outputs": [
    {
     "data": {
      "text/html": [
       "<div>\n",
       "<style scoped>\n",
       "    .dataframe tbody tr th:only-of-type {\n",
       "        vertical-align: middle;\n",
       "    }\n",
       "\n",
       "    .dataframe tbody tr th {\n",
       "        vertical-align: top;\n",
       "    }\n",
       "\n",
       "    .dataframe thead th {\n",
       "        text-align: right;\n",
       "    }\n",
       "</style>\n",
       "<table border=\"1\" class=\"dataframe\">\n",
       "  <thead>\n",
       "    <tr style=\"text-align: right;\">\n",
       "      <th></th>\n",
       "      <th>доля уходящих</th>\n",
       "      <th>количество уходящих</th>\n",
       "      <th>всего в выборке</th>\n",
       "    </tr>\n",
       "    <tr>\n",
       "      <th>equity</th>\n",
       "      <th></th>\n",
       "      <th></th>\n",
       "      <th></th>\n",
       "    </tr>\n",
       "  </thead>\n",
       "  <tbody>\n",
       "    <tr>\n",
       "      <th>0</th>\n",
       "      <td>0.03</td>\n",
       "      <td>90</td>\n",
       "      <td>2592</td>\n",
       "    </tr>\n",
       "    <tr>\n",
       "      <th>1</th>\n",
       "      <td>0.12</td>\n",
       "      <td>93</td>\n",
       "      <td>774</td>\n",
       "    </tr>\n",
       "    <tr>\n",
       "      <th>2</th>\n",
       "      <td>0.16</td>\n",
       "      <td>166</td>\n",
       "      <td>1052</td>\n",
       "    </tr>\n",
       "    <tr>\n",
       "      <th>3</th>\n",
       "      <td>0.21</td>\n",
       "      <td>321</td>\n",
       "      <td>1542</td>\n",
       "    </tr>\n",
       "    <tr>\n",
       "      <th>4</th>\n",
       "      <td>0.25</td>\n",
       "      <td>464</td>\n",
       "      <td>1850</td>\n",
       "    </tr>\n",
       "    <tr>\n",
       "      <th>5</th>\n",
       "      <td>0.30</td>\n",
       "      <td>577</td>\n",
       "      <td>1918</td>\n",
       "    </tr>\n",
       "    <tr>\n",
       "      <th>6</th>\n",
       "      <td>0.36</td>\n",
       "      <td>58</td>\n",
       "      <td>161</td>\n",
       "    </tr>\n",
       "    <tr>\n",
       "      <th>7</th>\n",
       "      <td>0.46</td>\n",
       "      <td>37</td>\n",
       "      <td>80</td>\n",
       "    </tr>\n",
       "    <tr>\n",
       "      <th>8</th>\n",
       "      <td>0.35</td>\n",
       "      <td>6</td>\n",
       "      <td>17</td>\n",
       "    </tr>\n",
       "    <tr>\n",
       "      <th>9</th>\n",
       "      <td>0.54</td>\n",
       "      <td>7</td>\n",
       "      <td>13</td>\n",
       "    </tr>\n",
       "  </tbody>\n",
       "</table>\n",
       "</div>"
      ],
      "text/plain": [
       "        доля уходящих  количество уходящих  всего в выборке\n",
       "equity                                                     \n",
       "0                0.03                   90             2592\n",
       "1                0.12                   93              774\n",
       "2                0.16                  166             1052\n",
       "3                0.21                  321             1542\n",
       "4                0.25                  464             1850\n",
       "5                0.30                  577             1918\n",
       "6                0.36                   58              161\n",
       "7                0.46                   37               80\n",
       "8                0.35                    6               17\n",
       "9                0.54                    7               13"
      ]
     },
     "execution_count": 17,
     "metadata": {},
     "output_type": "execute_result"
    },
    {
     "data": {
      "image/png": "[encoded data removed]",
      "text/plain": [
       "<Figure size 640x480 with 1 Axes>"
      ]
     },
     "metadata": {},
     "output_type": "display_data"
    }
   ],
   "source": [
    "equity_tab=data.groupby('equity').agg({\"churn\":[\"mean\",\"sum\",\"count\"]})\n",
    "equity_tab.columns=['доля уходящих', 'количество уходящих', 'всего в выборке']\n",
    "ax=sns.barplot(data=equity_tab, y=equity_tab.index, x='доля уходящих', orient = 'h')\n",
    "ax.bar_label(ax.containers[0], labels=equity_tab['всего в выборке'])\n",
    "ax.set (xlabel='Доля нелояльных', ylabel='Оценка собственности', \n",
    "        title='Доля нелояльных клиентов в зависимости от\\n оценки собственности клиента')\n",
    "sns.despine(fig=None, ax=ax, top=True, right=True, left=False, bottom=False, offset=None, trim=False)\n",
    "plt.axvline(x=churn_share, color='r')\n",
    "equity_tab"
   ]
  },
  {
   "cell_type": "markdown",
   "metadata": {},
   "source": [
    "Клиенты начиная от оценки собственности 3 начинают утекать активнее чем в среднем. В диапазон 3-9 попадает 80% всех планирующих уйти. Очень хороший критерий. Ядро группы 3-5 на случай, если придется сужать захватывает почти 75% оттока. "
   ]
  },
  {
   "cell_type": "code",
   "execution_count": 18,
   "metadata": {},
   "outputs": [
    {
     "data": {
      "text/html": [
       "<div>\n",
       "<style scoped>\n",
       "    .dataframe tbody tr th:only-of-type {\n",
       "        vertical-align: middle;\n",
       "    }\n",
       "\n",
       "    .dataframe tbody tr th {\n",
       "        vertical-align: top;\n",
       "    }\n",
       "\n",
       "    .dataframe thead th {\n",
       "        text-align: right;\n",
       "    }\n",
       "</style>\n",
       "<table border=\"1\" class=\"dataframe\">\n",
       "  <thead>\n",
       "    <tr style=\"text-align: right;\">\n",
       "      <th></th>\n",
       "      <th>доля уходящих</th>\n",
       "      <th>количество уходящих</th>\n",
       "      <th>всего в выборке</th>\n",
       "    </tr>\n",
       "    <tr>\n",
       "      <th>products</th>\n",
       "      <th></th>\n",
       "      <th></th>\n",
       "      <th></th>\n",
       "    </tr>\n",
       "  </thead>\n",
       "  <tbody>\n",
       "    <tr>\n",
       "      <th>1</th>\n",
       "      <td>0.07</td>\n",
       "      <td>235</td>\n",
       "      <td>3341</td>\n",
       "    </tr>\n",
       "    <tr>\n",
       "      <th>2</th>\n",
       "      <td>0.19</td>\n",
       "      <td>979</td>\n",
       "      <td>5126</td>\n",
       "    </tr>\n",
       "    <tr>\n",
       "      <th>3</th>\n",
       "      <td>0.29</td>\n",
       "      <td>297</td>\n",
       "      <td>1039</td>\n",
       "    </tr>\n",
       "    <tr>\n",
       "      <th>4</th>\n",
       "      <td>0.63</td>\n",
       "      <td>300</td>\n",
       "      <td>474</td>\n",
       "    </tr>\n",
       "    <tr>\n",
       "      <th>5</th>\n",
       "      <td>0.42</td>\n",
       "      <td>8</td>\n",
       "      <td>19</td>\n",
       "    </tr>\n",
       "  </tbody>\n",
       "</table>\n",
       "</div>"
      ],
      "text/plain": [
       "          доля уходящих  количество уходящих  всего в выборке\n",
       "products                                                     \n",
       "1                  0.07                  235             3341\n",
       "2                  0.19                  979             5126\n",
       "3                  0.29                  297             1039\n",
       "4                  0.63                  300              474\n",
       "5                  0.42                    8               19"
      ]
     },
     "execution_count": 18,
     "metadata": {},
     "output_type": "execute_result"
    },
    {
     "data": {
      "image/png": "[encoded data removed]",
      "text/plain": [
       "<Figure size 640x480 with 1 Axes>"
      ]
     },
     "metadata": {},
     "output_type": "display_data"
    }
   ],
   "source": [
    "products_tab=data.groupby('products').agg({\"churn\":[\"mean\",\"sum\",\"count\"]})\n",
    "products_tab.columns=['доля уходящих', 'количество уходящих', 'всего в выборке']\n",
    "ax=sns.barplot(data=products_tab, y=products_tab.index, x='доля уходящих', orient = 'h')\n",
    "ax.bar_label(ax.containers[0], labels=products_tab['всего в выборке'])\n",
    "ax.set (xlabel='Доля нелояльных', ylabel='Колчиество используемых продуктов', \n",
    "        title='Доля нелояльных клиентов в зависимости от\\n количества используемых продуктов')\n",
    "sns.despine(fig=None, ax=ax, top=True, right=True, left=False, bottom=False, offset=None, trim=False)\n",
    "plt.axvline(x=churn_share, color='r')\n",
    "products_tab"
   ]
  },
  {
   "cell_type": "markdown",
   "metadata": {},
   "source": [
    "Клиенты как бы намекают банку на свое к нему отношение.\n",
    "\n",
    "Клиенты, имеющие от 2 продуктов и более утекают активнее (87% отточных клиентов в этом диапазоне). Наивысший отток среди имеющих 4 продукта.\n",
    "\n",
    "Основная часть клиентов (более 80%) пользуется только 2мя продуктами (счет и карта к нему привязанные?)"
   ]
  },
  {
   "cell_type": "code",
   "execution_count": 19,
   "metadata": {},
   "outputs": [
    {
     "data": {
      "text/html": [
       "<div>\n",
       "<style scoped>\n",
       "    .dataframe tbody tr th:only-of-type {\n",
       "        vertical-align: middle;\n",
       "    }\n",
       "\n",
       "    .dataframe tbody tr th {\n",
       "        vertical-align: top;\n",
       "    }\n",
       "\n",
       "    .dataframe thead th {\n",
       "        text-align: right;\n",
       "    }\n",
       "</style>\n",
       "<table border=\"1\" class=\"dataframe\">\n",
       "  <thead>\n",
       "    <tr style=\"text-align: right;\">\n",
       "      <th></th>\n",
       "      <th>доля уходящих</th>\n",
       "      <th>количество уходящих</th>\n",
       "      <th>всего в выборке</th>\n",
       "    </tr>\n",
       "  </thead>\n",
       "  <tbody>\n",
       "    <tr>\n",
       "      <th>нет карты</th>\n",
       "      <td>0.26</td>\n",
       "      <td>816</td>\n",
       "      <td>3195</td>\n",
       "    </tr>\n",
       "    <tr>\n",
       "      <th>есть карта</th>\n",
       "      <td>0.15</td>\n",
       "      <td>1003</td>\n",
       "      <td>6804</td>\n",
       "    </tr>\n",
       "  </tbody>\n",
       "</table>\n",
       "</div>"
      ],
      "text/plain": [
       "            доля уходящих  количество уходящих  всего в выборке\n",
       "нет карты            0.26                  816             3195\n",
       "есть карта           0.15                 1003             6804"
      ]
     },
     "execution_count": 19,
     "metadata": {},
     "output_type": "execute_result"
    },
    {
     "data": {
      "image/png": "[encoded data removed]",
      "text/plain": [
       "<Figure size 640x480 with 1 Axes>"
      ]
     },
     "metadata": {},
     "output_type": "display_data"
    }
   ],
   "source": [
    "credit_card_tab=data.groupby('credit_card').agg({\"churn\":[\"mean\",\"sum\",\"count\"]})\n",
    "credit_card_tab.columns=['доля уходящих', 'количество уходящих', 'всего в выборке']\n",
    "credit_card_tab.index=['нет карты', 'есть карта']\n",
    "ax=sns.barplot(data=credit_card_tab, y=credit_card_tab.index, x='доля уходящих', orient = 'h')\n",
    "ax.bar_label(ax.containers[0], labels=credit_card_tab['всего в выборке'])\n",
    "ax.set (title='Доля нелояльных клиентов в зависимости от \\n использования кредитной карты')\n",
    "sns.despine(fig=None, ax=ax, top=True, right=True, left=False, bottom=False, offset=None, trim=False)\n",
    "plt.axvline(x=churn_share, color='r')\n",
    "credit_card_tab"
   ]
  },
  {
   "cell_type": "markdown",
   "metadata": {},
   "source": [
    "Клиенты не имеющие кредитной карты утекают активнее среднего, но их в два раза меньше, чем тех, у кого карта есть. Возможная причина оттока - неудобные условия кредитования по кредитным картам."
   ]
  },
  {
   "cell_type": "code",
   "execution_count": 20,
   "metadata": {},
   "outputs": [
    {
     "data": {
      "text/html": [
       "<div>\n",
       "<style scoped>\n",
       "    .dataframe tbody tr th:only-of-type {\n",
       "        vertical-align: middle;\n",
       "    }\n",
       "\n",
       "    .dataframe tbody tr th {\n",
       "        vertical-align: top;\n",
       "    }\n",
       "\n",
       "    .dataframe thead th {\n",
       "        text-align: right;\n",
       "    }\n",
       "</style>\n",
       "<table border=\"1\" class=\"dataframe\">\n",
       "  <thead>\n",
       "    <tr style=\"text-align: right;\">\n",
       "      <th></th>\n",
       "      <th>доля уходящих</th>\n",
       "      <th>количество уходящих</th>\n",
       "      <th>всего в выборке</th>\n",
       "    </tr>\n",
       "  </thead>\n",
       "  <tbody>\n",
       "    <tr>\n",
       "      <th>не активный</th>\n",
       "      <td>0.11</td>\n",
       "      <td>541</td>\n",
       "      <td>4764</td>\n",
       "    </tr>\n",
       "    <tr>\n",
       "      <th>активный</th>\n",
       "      <td>0.24</td>\n",
       "      <td>1278</td>\n",
       "      <td>5235</td>\n",
       "    </tr>\n",
       "  </tbody>\n",
       "</table>\n",
       "</div>"
      ],
      "text/plain": [
       "             доля уходящих  количество уходящих  всего в выборке\n",
       "не активный           0.11                  541             4764\n",
       "активный              0.24                 1278             5235"
      ]
     },
     "execution_count": 20,
     "metadata": {},
     "output_type": "execute_result"
    },
    {
     "data": {
      "image/png": "[encoded data removed]",
      "text/plain": [
       "<Figure size 640x480 with 1 Axes>"
      ]
     },
     "metadata": {},
     "output_type": "display_data"
    }
   ],
   "source": [
    "last_activity_tab=data.groupby('last_activity').agg({\"churn\":[\"mean\",\"sum\",\"count\"]})\n",
    "last_activity_tab.columns=['доля уходящих', 'количество уходящих', 'всего в выборке']\n",
    "last_activity_tab.index=['не активный','активный']\n",
    "ax=sns.barplot(data=last_activity_tab, y=last_activity_tab.index, x='доля уходящих', orient = 'h')\n",
    "ax.bar_label(ax.containers[0], labels=last_activity_tab['всего в выборке'])\n",
    "ax.set (title='Доля нелояльных клиентов в зависимости\\n от активностии клиента')\n",
    "sns.despine(fig=None, ax=ax, top=True, right=True, left=False, bottom=False, offset=None, trim=False)\n",
    "plt.axvline(x=churn_share, color='r')\n",
    "last_activity_tab"
   ]
  },
  {
   "cell_type": "markdown",
   "metadata": {},
   "source": [
    "Самая плохая новость - активнее утекают активные клиенты (звучит логично), которых чуть больше половины в банке."
   ]
  },
  {
   "cell_type": "markdown",
   "metadata": {},
   "source": [
    "### Проводим корреляционный анализ данных."
   ]
  },
  {
   "cell_type": "code",
   "execution_count": 21,
   "metadata": {},
   "outputs": [
    {
     "data": {
      "image/png": "[encoded data removed]",
      "text/plain": [
       "<Figure size 1600x800 with 2 Axes>"
      ]
     },
     "metadata": {},
     "output_type": "display_data"
    },
    {
     "data": {
      "image/png": "[encoded data removed]",
      "text/plain": [
       "<Figure size 640x480 with 2 Axes>"
      ]
     },
     "metadata": {},
     "output_type": "display_data"
    }
   ],
   "source": [
    "plt.figure(figsize=(16,8))\n",
    "sns.heatmap(data.drop(['user_id'], axis=1).corr(), annot=True, fmt='.2f', cmap='vlag')\n",
    "plt.show()\n",
    "sns.heatmap(data.corr().loc[:,['churn']].drop(['churn','user_id']).sort_values('churn'), annot=True, fmt='.0%', cmap='vlag', center=0)\n",
    "plt.show()"
   ]
  },
  {
   "cell_type": "markdown",
   "metadata": {},
   "source": [
    "На общей таблице выделяются \n",
    "equity и balance_exist - сильная корреляция 0.7, грубо значит лишь то, что баланс известен - есть собственность, баланс неизвестен - собственности нет.\n",
    "products - balance exist - средняя корреляция 0.5, грубо если известен баланс - есть продукты.\n",
    "equity - products - слабая корреляция 0.4, чем больше собственности тем больше продуктов (скажем страховки используют)\n",
    "balance - est_salary - слабая корреляция 03, больше доход - больше баланс. Логично.\n",
    "jaroslavl-rybinsk - высокая отрицательная корреляция -0.7, которая значит лишь то, что клиент из ярославля не живет в рыбинске и наоборот. То же касается rostov-jaroslavl и jaroslavl-rybinsk.\n",
    "\n",
    "В разерезе оттока chorn.\n",
    "Слабая положительная 0.3 с products - чем больше продуктов тем активнее отток.\n",
    "Совсем рядом собственность - очень слабая положительная связь 0.27. Больше собственности - активнее отоок.\n",
    "Очень слабая отрицательная связь -0.13 с наличием кредитной карты - некоторых ее наличие удерживает от ухода из банка."
   ]
  },
  {
   "cell_type": "markdown",
   "metadata": {},
   "source": [
    "### Портрет клиента."
   ]
  },
  {
   "cell_type": "code",
   "execution_count": 22,
   "metadata": {},
   "outputs": [],
   "source": [
    "# Нам он еще три раза понадобится, поэтому бахнем функцию.\n",
    "def portrait_maker(df):\n",
    "    #Собираем таблицу с характеристиками отточных клиентов\n",
    "    portrait_stay=df[df['churn']==0].agg({\n",
    "         'gender':['mode'],\n",
    "         'city':['mode'],\n",
    "         'age':['median', 'mean'],\n",
    "         'last_activity':['median'],\n",
    "         'products':['median'],\n",
    "         'credit_card':['median'],\n",
    "         'equity':['median'],\n",
    "         'balance':['median', 'mean'],\n",
    "         'score':['median', 'mean'],\n",
    "         'est_salary':['median', 'mean']\n",
    "         })\n",
    "    if len(portrait_stay)==4:\n",
    "        portrait_stay=portrait_stay.drop(1)\n",
    "        portrait_stay.iloc[0,0]='МЖ'\n",
    "    portrait_stay.columns=['Пол', 'Город', 'Возраст', 'Активность', 'Продукты', 'Кредитка', 'Собственность', 'Баланс', 'Скоринг', 'Доход']\n",
    "    portrait_stay=portrait_stay.fillna('').T\n",
    "    portrait_stay.columns=pd.MultiIndex.from_tuples( [('Лояльные',''),(\"Лояльные\",'Среднее'),(\"Лояльные\",'Медиана')])\n",
    "\n",
    "    #Собираем таблицу с характеристиками отточных клиентов\n",
    "    portrait_leave=df[df['churn']==1].agg({\n",
    "         'gender':['mode'],\n",
    "         'city':['mode'],\n",
    "         'age':['median', 'mean'],\n",
    "         'last_activity':['median'],\n",
    "         'products':['median'],\n",
    "         'credit_card':['median'],\n",
    "         'equity':['median'],\n",
    "         'balance':['median', 'mean'],\n",
    "         'score':['median', 'mean'],\n",
    "         'est_salary':['median', 'mean']\n",
    "         })\n",
    "    portrait_leave.columns=['Пол', 'Город', 'Возраст', 'Активность', 'Продукты', 'Кредитка', 'Собственность', 'Баланс', 'Скоринг', 'Доход']\n",
    "    portrait_leave=portrait_leave.fillna('').T\n",
    "    portrait_leave.columns=pd.MultiIndex.from_tuples( [('Отточные',''),(\"Отточные\",'Среднее'),(\"Отточные\",'Медиана')])\n",
    "\n",
    "    #Объединяем, украшаем\n",
    "    merged_portrait = pd.merge(portrait_stay, portrait_leave, left_index=True, right_index=True)\n",
    "    #merged_portrait.columns=pd.MultiIndex.from_tuples( [('Лояльные',''),(\"Лояльные\",'Среднее'),(\"Лояльные\",'Медиана'),('Отточные',''),(\"Отточные\",'Среднее'),(\"Отточные\",'Медиана')])\n",
    "    pd.options.display.float_format ='{:,.0f}'.format\n",
    "    display(merged_portrait)\n",
    "    pd.options.display.float_format ='{:,.2f}'.format\n",
    "    return portrait_leave"
   ]
  },
  {
   "cell_type": "code",
   "execution_count": 23,
   "metadata": {
    "scrolled": true
   },
   "outputs": [
    {
     "data": {
      "text/html": [
       "<div>\n",
       "<style scoped>\n",
       "    .dataframe tbody tr th:only-of-type {\n",
       "        vertical-align: middle;\n",
       "    }\n",
       "\n",
       "    .dataframe tbody tr th {\n",
       "        vertical-align: top;\n",
       "    }\n",
       "\n",
       "    .dataframe thead tr th {\n",
       "        text-align: left;\n",
       "    }\n",
       "</style>\n",
       "<table border=\"1\" class=\"dataframe\">\n",
       "  <thead>\n",
       "    <tr>\n",
       "      <th></th>\n",
       "      <th colspan=\"3\" halign=\"left\">Лояльные</th>\n",
       "      <th colspan=\"3\" halign=\"left\">Отточные</th>\n",
       "    </tr>\n",
       "    <tr>\n",
       "      <th></th>\n",
       "      <th></th>\n",
       "      <th>Среднее</th>\n",
       "      <th>Медиана</th>\n",
       "      <th></th>\n",
       "      <th>Среднее</th>\n",
       "      <th>Медиана</th>\n",
       "    </tr>\n",
       "  </thead>\n",
       "  <tbody>\n",
       "    <tr>\n",
       "      <th>Пол</th>\n",
       "      <td>Ж</td>\n",
       "      <td></td>\n",
       "      <td></td>\n",
       "      <td>М</td>\n",
       "      <td></td>\n",
       "      <td></td>\n",
       "    </tr>\n",
       "    <tr>\n",
       "      <th>Город</th>\n",
       "      <td>Ярославль</td>\n",
       "      <td></td>\n",
       "      <td></td>\n",
       "      <td>Ярославль</td>\n",
       "      <td></td>\n",
       "      <td></td>\n",
       "    </tr>\n",
       "    <tr>\n",
       "      <th>Возраст</th>\n",
       "      <td></td>\n",
       "      <td>43</td>\n",
       "      <td>40</td>\n",
       "      <td></td>\n",
       "      <td>41</td>\n",
       "      <td>39</td>\n",
       "    </tr>\n",
       "    <tr>\n",
       "      <th>Активность</th>\n",
       "      <td></td>\n",
       "      <td></td>\n",
       "      <td>0</td>\n",
       "      <td></td>\n",
       "      <td></td>\n",
       "      <td>1</td>\n",
       "    </tr>\n",
       "    <tr>\n",
       "      <th>Продукты</th>\n",
       "      <td></td>\n",
       "      <td></td>\n",
       "      <td>2</td>\n",
       "      <td></td>\n",
       "      <td></td>\n",
       "      <td>2</td>\n",
       "    </tr>\n",
       "    <tr>\n",
       "      <th>Кредитка</th>\n",
       "      <td></td>\n",
       "      <td></td>\n",
       "      <td>1</td>\n",
       "      <td></td>\n",
       "      <td></td>\n",
       "      <td>1</td>\n",
       "    </tr>\n",
       "    <tr>\n",
       "      <th>Собственность</th>\n",
       "      <td></td>\n",
       "      <td></td>\n",
       "      <td>3</td>\n",
       "      <td></td>\n",
       "      <td></td>\n",
       "      <td>4</td>\n",
       "    </tr>\n",
       "    <tr>\n",
       "      <th>Баланс</th>\n",
       "      <td></td>\n",
       "      <td>733,983</td>\n",
       "      <td>475,382</td>\n",
       "      <td></td>\n",
       "      <td>1,133,993</td>\n",
       "      <td>782,410</td>\n",
       "    </tr>\n",
       "    <tr>\n",
       "      <th>Скоринг</th>\n",
       "      <td></td>\n",
       "      <td>845</td>\n",
       "      <td>848</td>\n",
       "      <td></td>\n",
       "      <td>863</td>\n",
       "      <td>866</td>\n",
       "    </tr>\n",
       "    <tr>\n",
       "      <th>Доход</th>\n",
       "      <td></td>\n",
       "      <td>147,783</td>\n",
       "      <td>118,258</td>\n",
       "      <td></td>\n",
       "      <td>148,311</td>\n",
       "      <td>125,395</td>\n",
       "    </tr>\n",
       "  </tbody>\n",
       "</table>\n",
       "</div>"
      ],
      "text/plain": [
       "                Лояльные                   Отточные                  \n",
       "                         Среднее Медиана              Среднее Медиана\n",
       "Пол                    Ж                          М                  \n",
       "Город          Ярославль                  Ярославль                  \n",
       "Возраст                       43      40                   41      39\n",
       "Активность                             0                            1\n",
       "Продукты                               2                            2\n",
       "Кредитка                               1                            1\n",
       "Собственность                          3                            4\n",
       "Баланс                   733,983 475,382            1,133,993 782,410\n",
       "Скоринг                      845     848                  863     866\n",
       "Доход                    147,783 118,258              148,311 125,395"
      ]
     },
     "metadata": {},
     "output_type": "display_data"
    }
   ],
   "source": [
    "portrait_maker(data);"
   ]
  },
  {
   "cell_type": "markdown",
   "metadata": {},
   "source": [
    "##  Промежуточные выводы по разделу \n",
    "\n",
    "Основной момент - 18% клиентов в выборке не лояльны.\n",
    "\n",
    "В таблице ниже приведены основные характеристики параметров, связанных с оттоком клиентов.\n",
    "\n",
    "<table>\n",
    "  <tr>\n",
    "    <td><b>Параметр</b></td>\n",
    "    <td><b>Варьируется от и до</b></td>  \n",
    "    <td><b>Диапазон где сравнительно<br> много отточных клиентов</b></td>\n",
    "    <td><b>Количество клиентов<br> в диапазоне</b></td>\n",
    "    <td><b>Количество отточных<br> в диапазоне</b></td>\n",
    "    <td><b>Доля</b></td>\n",
    "  </tr>\n",
    "  <tr>\n",
    "    <td>Кредитный скоринг</td>\n",
    "    <td>642-1000</td>\n",
    "    <td>820-915</td>\n",
    "    <td>4969</td>\n",
    "    <td>1170</td>\n",
    "    <td>23%</td>\n",
    "  </tr>\n",
    "  <tr>\n",
    "    <td>Город</td>\n",
    "    <td>Ярославль, Рыбинск, Ростов</td>\n",
    "    <td>Ярославль</td>\n",
    "    <td>5888</td>\n",
    "    <td>1117</td>\n",
    "    <td>19%</td>\n",
    "  </tr>  \n",
    "  <tr>\n",
    "    <td>Пол</td>\n",
    "    <td>Мужской, Женский</td>\n",
    "    <td>Мужской</td>\n",
    "    <td>5005</td>\n",
    "    <td>1183</td>\n",
    "    <td>24%</td>\n",
    "  </tr>     \n",
    "  <tr>\n",
    "    <td>Возраст</td>\n",
    "    <td>18-86</td>\n",
    "    <td>21-35 или 49-61</td>\n",
    "    <td>4604</td>\n",
    "    <td>1081</td>\n",
    "    <td>23%</td>\n",
    "  </tr>       \n",
    "  <tr>\n",
    "    <td>Оценка собственности</td>\n",
    "    <td>0-9</td>\n",
    "    <td>3-9</td>\n",
    "    <td>5582</td>\n",
    "    <td>1471</td>\n",
    "    <td>26%</td>\n",
    "  </tr>  \t\t\t\n",
    "  <tr>\n",
    "    <td>Баланс</td>\n",
    "    <td>0-100 млн.</td>\n",
    "    <td>более 1 млн.</td>\n",
    "    <td>1876</td>\n",
    "    <td>722</td>\n",
    "    <td>38%</td>\n",
    "  </tr>   \n",
    "  <tr>\n",
    "    <td>Кол-во продуктов</td>\n",
    "    <td>1-5</td>\n",
    "    <td>3-5</td>\n",
    "    <td>1532</td>\n",
    "    <td>605</td>\n",
    "    <td>39%</td>\n",
    "  </tr>       \n",
    "  <tr>\n",
    "    <td>Использование кредитной карты</td>\n",
    "    <td>0 - 1</td>\n",
    "    <td>0</td>\n",
    "    <td>3196</td>\n",
    "    <td>817</td>\n",
    "    <td>26%</td>\n",
    "  </tr> \n",
    "  <tr>\n",
    "    <td>Активность</td>\n",
    "    <td>0 - 1</td>\n",
    "    <td>1</td>\n",
    "    <td>5235</td>\n",
    "    <td>1278</td>\n",
    "    <td>24%</td>\n",
    "  </tr>     \n",
    "  <tr>\n",
    "    <td>Оценочный доход</td>\n",
    "    <td>2500-1.4 млн.</td>\n",
    "    <td>95 до 245 тыс.</td>\n",
    "    <td>5393</td>\n",
    "    <td>1074</td>\n",
    "    <td>20%</td>\n",
    "  </tr>  \n",
    "  <tr>\n",
    "    <td>Планируют уйти</td>\n",
    "    <td>0 - 1</td>\n",
    "    <td>1</td>\n",
    "    <td>1819</td>\n",
    "    <td>1819</td>\n",
    "    <td>100%</td>\n",
    "  </tr> \n",
    "</table>\n",
    "\n",
    "__Анализ корреляций__ параметров позволил установить:\n",
    "\n",
    "Оценка собственности и наличие данных о балансе - сильная корреляция 0.7, грубо значит лишь то, что баланс известен - есть собственность, баланс неизвестен - собственности нет. \n",
    "\n",
    "Количество продуктов и наличие данных о балансе - средняя корреляция 0.5, грубо если известен баланс - есть продукты. \n",
    "\n",
    "Оценка собственности - количество продуктов - слабая корреляция 0.4, чем больше собственности тем больше продуктов\n",
    "\n",
    "Баланс - оценка собственности - слабая корреляция 03, больше доход - больше баланс. Логично. \n",
    "\n",
    "__В разерезе оттока__\n",
    "\n",
    "Слабая положительная 0.3 с количеством продуктов - чем больше продуктов тем активнее отток. \n",
    "\n",
    "Совсем рядом собственность - очень слабая положительная связь 0.27. \n",
    "\n",
    "Больше собственности - активнее отоок. \n",
    "\n",
    "Очень слабая отрицательная связь -0.13 с наличием кредитной карты - некоторых ее наличие удерживает от ухода из банка.\n",
    "\n",
    "__Портреты клиентов__\n",
    "<table>\n",
    "  <tr>\n",
    "    <td><b>Параметр</b></td>\n",
    "    <td><b>Лояльные</b></td>\n",
    "    <td><b>Отточные</b></td>\n",
    "  </tr>\n",
    "  <tr>\n",
    "    <td>Пол</td>\n",
    "    <td>Жен</td>\n",
    "    <td>Муж</td>\n",
    "  </tr>\n",
    "  <tr>\n",
    "    <td>Город</td>\n",
    "    <td>Ярославль</td>\n",
    "    <td>Ярославль</td>\n",
    "  </tr>\n",
    "  <tr>\n",
    "    <td>Возраст</td>\n",
    "    <td>40</td>\n",
    "    <td>39</td>\n",
    "  </tr>\n",
    "  <tr>\n",
    "    <td>Активность</td>\n",
    "    <td>0</td>\n",
    "    <td>1</td>\n",
    "  </tr>    \n",
    "  <tr>\n",
    "    <td>Количество продуктов</td>\n",
    "    <td>2</td>\n",
    "    <td>2</td>\n",
    "  </tr>       \n",
    "  <tr>\n",
    "    <td>Наличие кредитной карты</td>\n",
    "    <td>1</td>\n",
    "    <td>1</td>\n",
    "  </tr> \n",
    "  <tr>\n",
    "    <td>Оценка собственности</td>\n",
    "    <td>3</td>\n",
    "    <td>4</td>\n",
    "  </tr>  \n",
    "  <tr>\n",
    "    <td>Баланс</td>\n",
    "    <td>475 тыс.</td>\n",
    "    <td>782 тыс.</td>\n",
    "  </tr>     \n",
    "  <tr>\n",
    "    <td>Кредитный скоринг</td>\n",
    "    <td>848</td>\n",
    "    <td>866</td>\n",
    "  </tr>      \n",
    "  <tr>\n",
    "    <td>Оценка дохода</td>\n",
    "    <td>118 тыс.</td>\n",
    "    <td>125 тыс.</td>\n",
    "  </tr>    "
   ]
  },
  {
   "cell_type": "markdown",
   "metadata": {},
   "source": [
    "## Проверка статистических гипотез."
   ]
  },
  {
   "cell_type": "markdown",
   "metadata": {},
   "source": [
    "Проверим гипотезы ttest, но для этого необходимо сначала проверить его применимость. Ттест корректен в случае, если:\n",
    "\n",
    "    Генеральные совокупности не зависят друг от друга. - наша выборка предположительно дает единомоментный срез, поэтому в группах лояльных и нелояльных клиентов разные люди. Критерий выполнен.\n",
    "    Выборочные средние нормально распределены. - любая из подвыборок содержит более 30 записей (8180 и 1820), центральная предельная теорема утверждает, что выборочные средние нормально распределены при достаточно больших выбрках. Предположим, что она работает.\n",
    "    В зависимости от равенства, или различия дисперсий исследуемых генеральных совокупностей мы должны определить параметр equal_var функции st.ttest. В данном случае размеры выборок сильно отличаются, поэтому присвоим параметру значение equal_var = False\n",
    "    \n",
    "Поскольку в выборках по многим параметрам присутствуют выбросы, кроме Т-теста будем смотреть и на результаты теста Манна-Уитни."
   ]
  },
  {
   "cell_type": "code",
   "execution_count": 24,
   "metadata": {},
   "outputs": [],
   "source": [
    "def combine_test(dt1,dt2):\n",
    "    alpha = 0.05\n",
    "    display('Т-тест')\n",
    "    results = st.ttest_ind(dt1,dt2, equal_var = False)\n",
    "    print (results.pvalue) \n",
    "    if results.pvalue < alpha:\n",
    "        print ('Отвергаем нулевую гипотезу: разница статистически значима')\n",
    "    else:\n",
    "        print ('Не получилось отвергнуть нулевую гипотезу, вывод о различии сделать нельзя')\n",
    "\n",
    "    display('Тест Манна-Уитни')\n",
    "    results = st.mannwhitneyu(data[data['churn']==0]['est_salary'],data[data['churn']==1]['est_salary'])\n",
    "    print('p-значение: ', results.pvalue)\n",
    "    if results.pvalue < alpha:\n",
    "        print('Отвергаем нулевую гипотезу: разница статистически значима')\n",
    "    else:\n",
    "        print('Не получилось отвергнуть нулевую гипотезу, вывод о различии сделать нельзя') "
   ]
  },
  {
   "cell_type": "markdown",
   "metadata": {},
   "source": [
    "### Гипотеза о различии дохода между клиентами, которые планируют уйти и клиентами, которые планируют остаться."
   ]
  },
  {
   "cell_type": "markdown",
   "metadata": {},
   "source": [
    "Сформулируем нулевую и альтернативную гипотезы:\n",
    "H₀: средние оценочных доходов лояльных и отточных клиентов равны\n",
    "H₁: средние оценочные доходов лояльных и отточных клиентов не равны"
   ]
  },
  {
   "cell_type": "code",
   "execution_count": 25,
   "metadata": {},
   "outputs": [
    {
     "data": {
      "text/plain": [
       "'Т-тест'"
      ]
     },
     "metadata": {},
     "output_type": "display_data"
    },
    {
     "name": "stdout",
     "output_type": "stream",
     "text": [
      "0.8724727072323815\n",
      "Не получилось отвергнуть нулевую гипотезу, вывод о различии сделать нельзя\n"
     ]
    },
    {
     "data": {
      "text/plain": [
       "'Тест Манна-Уитни'"
      ]
     },
     "metadata": {},
     "output_type": "display_data"
    },
    {
     "name": "stdout",
     "output_type": "stream",
     "text": [
      "p-значение:  0.00021160652203623057\n",
      "Отвергаем нулевую гипотезу: разница статистически значима\n"
     ]
    }
   ],
   "source": [
    "combine_test(data[data['churn']==0]['est_salary'],data[data['churn']==1]['est_salary'])"
   ]
  },
  {
   "cell_type": "markdown",
   "metadata": {},
   "source": [
    "При стат. значимости 5% отвергнуть гулевую гипотезу не получилось по Т-тесту. Но из анализа данных мы помним, что в оценочных доходах много выбросов, поэтому ориентируемся на результат теста Манна-Уитни как устойчивого к выбросам. Принимаем, что разница статистически значима."
   ]
  },
  {
   "cell_type": "markdown",
   "metadata": {},
   "source": [
    "### Гипотеза о различии кредитного скоринга между клиентами, окторые планируют уйти и клиентами, которые планируют остаться."
   ]
  },
  {
   "cell_type": "markdown",
   "metadata": {},
   "source": [
    "Сформулируем нулевую и альтернативную гипотезы:\n",
    "\n",
    "H₀: средние кредитных скорингов лояльных и отточных клиентов равны\n",
    "H₁: средние кредитных скорингов лояльных и отточных клиентов не равны"
   ]
  },
  {
   "cell_type": "code",
   "execution_count": 26,
   "metadata": {},
   "outputs": [
    {
     "data": {
      "text/plain": [
       "'Т-тест'"
      ]
     },
     "metadata": {},
     "output_type": "display_data"
    },
    {
     "name": "stdout",
     "output_type": "stream",
     "text": [
      "1.8436753008142297e-37\n",
      "Отвергаем нулевую гипотезу: разница статистически значима\n"
     ]
    },
    {
     "data": {
      "text/plain": [
       "'Тест Манна-Уитни'"
      ]
     },
     "metadata": {},
     "output_type": "display_data"
    },
    {
     "name": "stdout",
     "output_type": "stream",
     "text": [
      "p-значение:  0.00021160652203623057\n",
      "Отвергаем нулевую гипотезу: разница статистически значима\n"
     ]
    }
   ],
   "source": [
    "combine_test(data[data['churn']==0]['score'],data[data['churn']==1]['score'])"
   ]
  },
  {
   "cell_type": "markdown",
   "metadata": {},
   "source": [
    "И ттест и тест Манна-Уитни показали статистическую значимость разницы кредитного скоринга"
   ]
  },
  {
   "cell_type": "markdown",
   "metadata": {},
   "source": [
    "### Гипотеза о различии баланса между клиентами, окторые планируют уйти и клиентами, которые планируют остаться.\n"
   ]
  },
  {
   "cell_type": "markdown",
   "metadata": {},
   "source": [
    "Сформулируем нулевую и альтернативную гипотезы:\n",
    "\n",
    "H₀: средние балансов лояльных и отточных клиентов равны\n",
    "H₁: средние балансов лояльных и отточных клиентов не равны"
   ]
  },
  {
   "cell_type": "code",
   "execution_count": 27,
   "metadata": {},
   "outputs": [
    {
     "data": {
      "text/plain": [
       "'Т-тест'"
      ]
     },
     "metadata": {},
     "output_type": "display_data"
    },
    {
     "name": "stdout",
     "output_type": "stream",
     "text": [
      "2.0439782929669117e-13\n",
      "Отвергаем нулевую гипотезу: разница статистически значима\n"
     ]
    },
    {
     "data": {
      "text/plain": [
       "'Тест Манна-Уитни'"
      ]
     },
     "metadata": {},
     "output_type": "display_data"
    },
    {
     "name": "stdout",
     "output_type": "stream",
     "text": [
      "p-значение:  0.00021160652203623057\n",
      "Отвергаем нулевую гипотезу: разница статистически значима\n"
     ]
    }
   ],
   "source": [
    "combine_test(data[(data['churn']==0)&(~data['balance'].isna())]['balance'],\n",
    "                       data[(data['churn']==1)&(~data['balance'].isna())]['balance'])"
   ]
  },
  {
   "cell_type": "markdown",
   "metadata": {},
   "source": [
    "И Ттест и тест Манна-Уитни показали статистическую значимость разницы балансов лояльных и нелояльных клиентов."
   ]
  },
  {
   "cell_type": "markdown",
   "metadata": {},
   "source": [
    "### Гипотеза о различии использования кредитной карты между клиентами, окторые планируют уйти и клиентами, которые планируют остаться."
   ]
  },
  {
   "cell_type": "markdown",
   "metadata": {},
   "source": [
    "Сформулируем нулевую и альтернативную гипотезы:\n",
    "\n",
    "H₀: распространенность кредитных карт среди лояльных и отточных клиентов равны\n",
    "H₁: распространенность кредитных карт среди лояльных и отточных клиентов отличается"
   ]
  },
  {
   "cell_type": "markdown",
   "metadata": {},
   "source": [
    "В этом случае тестировать будем Ztest как доли. Основное предположение состоит в том, что выборочные доли нормально распределены относительно истинной доли. Вновь ссылаясь на центральную предельную теорему и значительное количество данных имеющихся в нашем распоряжении, посчитаем это возможным.\n",
    "\n",
    "Добавим функцию для Ztest долей."
   ]
  },
  {
   "cell_type": "code",
   "execution_count": 28,
   "metadata": {},
   "outputs": [],
   "source": [
    "# Функция сравнения пропорций в двух группах\n",
    "def kind_of_z_test(g1s, g1tr, g2s, g2tr):\n",
    "    alpha=0.05\n",
    "    # пропорция успехов в первой группе:\n",
    "    p1 = g1s/ g1tr\n",
    "    # пропорция успехов во второй группе:\n",
    "    p2 = g2s/ g2tr\n",
    "    # пропорция успехов в комбинированном датасете:\n",
    "    p_combined = (g1s+g2s) / (g1tr + g2tr)\n",
    "    # разница пропорций в датасетах\n",
    "    difference = p1 - p2 \n",
    "    # считаем статистику в ст.отклонениях стандартного нормального распределения\n",
    "    z_value = difference / mth.sqrt(p_combined * (1 - p_combined) * (1/g1tr + 1/g2tr))\n",
    "    # задаем стандартное нормальное распределение (среднее 0, ст.отклонение 1)\n",
    "    distr = st.norm(0, 1) \n",
    "    p_value = (1 - distr.cdf(abs(z_value))) * 2\n",
    "    display('Пропорциональный Z-test')\n",
    "    print('p-значение: ', p_value)\n",
    "    if p_value < alpha:\n",
    "        print('Отвергаем нулевую гипотезу: разница статистически значима')\n",
    "    else:\n",
    "        print('Не получилось отвергнуть нулевую гипотезу, вывод о различии сделать нельзя') "
   ]
  },
  {
   "cell_type": "code",
   "execution_count": 29,
   "metadata": {},
   "outputs": [
    {
     "data": {
      "text/plain": [
       "'Пропорциональный Z-test'"
      ]
     },
     "metadata": {},
     "output_type": "display_data"
    },
    {
     "name": "stdout",
     "output_type": "stream",
     "text": [
      "p-значение:  0.0\n",
      "Отвергаем нулевую гипотезу: разница статистически значима\n"
     ]
    }
   ],
   "source": [
    "kind_of_z_test(data[(data['churn']==0)&(data['credit_card']==1)]['user_id'].count(),#лояльные с картой\n",
    "               data[(data['churn']==0)]['user_id'].count(),                         #все лояльные\n",
    "               data[(data['churn']==1)&(data['credit_card']==1)]['user_id'].count(),#нелояльные с картой\n",
    "               data[(data['churn']==1)]['user_id'].count())                         #все нелояльные"
   ]
  },
  {
   "cell_type": "markdown",
   "metadata": {},
   "source": [
    "Z-test показал статистическую значимость разницы использования кредитной карты лояльными и нелояльными клиентами."
   ]
  },
  {
   "cell_type": "markdown",
   "metadata": {},
   "source": [
    "### Гипотеза о различии собственности между клиентами, окторые планируют уйти и клиентами, которые планируют остаться."
   ]
  },
  {
   "cell_type": "markdown",
   "metadata": {},
   "source": [
    "Сформулируем нулевую и альтернативную гипотезы:\n",
    "\n",
    "H₀: средний показатель собственности лояльных и отточных клиентов равны\n",
    "H₁: средний показатель собственности лояльных и отточных клиентов отличается"
   ]
  },
  {
   "cell_type": "code",
   "execution_count": 30,
   "metadata": {},
   "outputs": [
    {
     "data": {
      "text/plain": [
       "'Т-тест'"
      ]
     },
     "metadata": {},
     "output_type": "display_data"
    },
    {
     "name": "stdout",
     "output_type": "stream",
     "text": [
      "1.3413230777986217e-197\n",
      "Отвергаем нулевую гипотезу: разница статистически значима\n"
     ]
    },
    {
     "data": {
      "text/plain": [
       "'Тест Манна-Уитни'"
      ]
     },
     "metadata": {},
     "output_type": "display_data"
    },
    {
     "name": "stdout",
     "output_type": "stream",
     "text": [
      "p-значение:  0.00021160652203623057\n",
      "Отвергаем нулевую гипотезу: разница статистически значима\n"
     ]
    }
   ],
   "source": [
    "combine_test(data[data['churn']==0]['equity'],data[data['churn']==1]['equity'])"
   ]
  },
  {
   "cell_type": "markdown",
   "metadata": {},
   "source": [
    "И Ттест и тест Манна-Уитни показали статистическую значимость разницы оценки собственности лояльных и нелояльных клиентов."
   ]
  },
  {
   "cell_type": "markdown",
   "metadata": {},
   "source": [
    "### Гипотеза о различии активности между клиентами, окторые планируют уйти и клиентами, которые планируют остаться."
   ]
  },
  {
   "cell_type": "markdown",
   "metadata": {},
   "source": [
    "Сформулируем нулевую и альтернативную гипотезы:\n",
    "\n",
    "H₀: активность лояльных и отточных клиентов равныа\n",
    "H₁: активность лояльных и отточных клиентов не равна\n",
    "\n",
    "Применять будем Z-test на пропорцию"
   ]
  },
  {
   "cell_type": "code",
   "execution_count": 31,
   "metadata": {},
   "outputs": [
    {
     "data": {
      "text/plain": [
       "'Пропорциональный Z-test'"
      ]
     },
     "metadata": {},
     "output_type": "display_data"
    },
    {
     "name": "stdout",
     "output_type": "stream",
     "text": [
      "p-значение:  0.0\n",
      "Отвергаем нулевую гипотезу: разница статистически значима\n"
     ]
    }
   ],
   "source": [
    "kind_of_z_test(data[(data['churn']==0)&(data['last_activity']==1)]['user_id'].count(),#лояльные активные\n",
    "               data[(data['churn']==0)]['user_id'].count(),                         #все лояльные\n",
    "               data[(data['churn']==1)&(data['last_activity']==1)]['user_id'].count(),#нелояльные активные\n",
    "               data[(data['churn']==1)]['user_id'].count())                            #все нелояльные"
   ]
  },
  {
   "cell_type": "markdown",
   "metadata": {},
   "source": [
    "Z-test показал статистическую значимость разницы активности лояльных и нелояльных клиентов."
   ]
  },
  {
   "cell_type": "markdown",
   "metadata": {},
   "source": [
    "### Гипотеза о различии проживания в городе Ярославль между клиентами, окторые планируют уйти и клиентами, которые планируют остаться."
   ]
  },
  {
   "cell_type": "markdown",
   "metadata": {},
   "source": [
    "Сформулируем нулевую и альтернативную гипотезы:\n",
    "\n",
    "H₀: проживание в Ярославле среди лояльных и отточных клиентов равны\n",
    "H₁: проживание в Ярославле среди лояльных и отточных клиентов не равны"
   ]
  },
  {
   "cell_type": "code",
   "execution_count": 32,
   "metadata": {},
   "outputs": [
    {
     "data": {
      "text/plain": [
       "'Пропорциональный Z-test'"
      ]
     },
     "metadata": {},
     "output_type": "display_data"
    },
    {
     "name": "stdout",
     "output_type": "stream",
     "text": [
      "p-значение:  0.015674044496274853\n",
      "Отвергаем нулевую гипотезу: разница статистически значима\n"
     ]
    }
   ],
   "source": [
    "kind_of_z_test(data[(data['churn']==0)&(data['jaroslavl']==1)]['user_id'].count(),#лояльные из Ярославля\n",
    "               data[(data['churn']==0)]['user_id'].count(),                         #все лояльные\n",
    "               data[(data['churn']==1)&(data['jaroslavl']==1)]['user_id'].count(),#нелояльные из Ярославля\n",
    "               data[(data['churn']==1)]['user_id'].count()) #все нелояльные"
   ]
  },
  {
   "cell_type": "markdown",
   "metadata": {},
   "source": [
    "Z-test показал статистическую значимость разницы статуса проживания в г. Ярославль для лояльных и нелояльных клиентов."
   ]
  },
  {
   "cell_type": "markdown",
   "metadata": {},
   "source": [
    "### Гипотеза о различии пола между клиентами, окторые планируют уйти и клиентами, которые планируют остаться."
   ]
  },
  {
   "cell_type": "markdown",
   "metadata": {},
   "source": [
    "Сформулируем нулевую и альтернативную гипотезы:\n",
    "\n",
    "H₀: пол лояльных и отточных клиентов в среднем одинаков\n",
    "H₁: пол лояльных и отточных клиентов в среднем отличается"
   ]
  },
  {
   "cell_type": "code",
   "execution_count": 33,
   "metadata": {},
   "outputs": [
    {
     "data": {
      "text/plain": [
       "'Пропорциональный Z-test'"
      ]
     },
     "metadata": {},
     "output_type": "display_data"
    },
    {
     "name": "stdout",
     "output_type": "stream",
     "text": [
      "p-значение:  0.0\n",
      "Отвергаем нулевую гипотезу: разница статистически значима\n"
     ]
    }
   ],
   "source": [
    "kind_of_z_test(data[(data['churn']==0)&(data['gender_d']==1)]['user_id'].count(),#лояльные мужчины\n",
    "               data[(data['churn']==0)]['user_id'].count(),                         #все лояльные\n",
    "               data[(data['churn']==1)&(data['gender_d']==1)]['user_id'].count(),#нелояльные мужчины\n",
    "               data[(data['churn']==1)]['user_id'].count()) #все нелояльные"
   ]
  },
  {
   "cell_type": "markdown",
   "metadata": {},
   "source": [
    "Z-test показал статистическую значимость разницы пола лояльных и нелояльных клиентов."
   ]
  },
  {
   "cell_type": "markdown",
   "metadata": {},
   "source": [
    "## Промежуточный итог по стат. гипотезам"
   ]
  },
  {
   "cell_type": "markdown",
   "metadata": {},
   "source": [
    "При статистической значимости 5% методами Т-тест и тест Манна-Уитни и пропорциональным Z-тестом проведены проверки гипотез о статистически значимом различии средних значений параметров в группах лояльных и нелояльных клиентов. Во всех тестах выявлено различие средних значений, т.е. все нижеперечисленные параметры могут быть использованы при дальнейшей сегментации данных.\n",
    "\n",
    "    Пол\n",
    "    Проживание в г. Ярославль\n",
    "    Ативность\n",
    "    Оценка собственности \n",
    "    Наличие кредитной карты банка\n",
    "    Баланс счетов\n",
    "    Кредитный скоринг\n",
    "    Оценка дохода"
   ]
  },
  {
   "cell_type": "markdown",
   "metadata": {},
   "source": [
    "## Сегментация"
   ]
  },
  {
   "cell_type": "markdown",
   "metadata": {},
   "source": [
    "### Комбинацией наиболее оточных параметров из пункта 2 попарно (либо тройками) выбрать сегменты, позволяющие выделить отточных клиентов. Требования к сегменту - отоок в 2 раза больше, чем в среднем. Размер сегмента 300-2000 человек. Подобрать сегменты таким образом, чтобы они вместе перекрывали максимально возможное количество отточных клиентов."
   ]
  },
  {
   "cell_type": "markdown",
   "metadata": {},
   "source": [
    "Дальше у нас есть два варианта действий. Либо руками разделять клиентов на сегменты комбинируя различные признаки и выискивая наиболее подходящие варианты, либо это как то оптимизировать.\n",
    "Будем делать три сегмента, в каждом объединим по три признака. В сегменте от 300 до 2000 человек. Чем больше в сегменте отточных клиентов тем он важнее. Далее комбинируем так, чтобы найти комбинацию сегментов с минимальным пересечением групп отточных "
   ]
  },
  {
   "cell_type": "markdown",
   "metadata": {},
   "source": [
    "Для начала закодируем признаки\n",
    "\n",
    "    0 - мужской пол\n",
    "    1 - живет в Ярославле\n",
    "    2 - возраст 21-35 лет\n",
    "    3 - возраст 49-61 год\n",
    "    4 - активность 1\n",
    "    5 - продуктов >2\n",
    "    6 - кредитной карты нет\n",
    "    7 - собственность >2\n",
    "    8 - баланс >1 млн.\n",
    "    9 - кредитный рейтинг 810-915 исключительно\n",
    "    10 - оценка дохода 950245 тыр исключительно"
   ]
  },
  {
   "cell_type": "code",
   "execution_count": 34,
   "metadata": {},
   "outputs": [],
   "source": [
    "# кодируем параметры, формируем массив массивов пользователей для каждого параметра. \n",
    "group=[data.query('gender_d==1')['user_id'].unique(),\n",
    "       data.query('jaroslavl==1')['user_id'].unique(),\n",
    "       data.query('21<age<35')['user_id'].unique(),\n",
    "       data.query('49<age<61')['user_id'].unique(),\n",
    "       data.query('last_activity==1')['user_id'].unique(),\n",
    "       data.query('products>2')['user_id'].unique(),\n",
    "       data.query('credit_card==0')['user_id'].unique(),\n",
    "       data.query('equity>2')['user_id'].unique(),\n",
    "       data.query('balance>1000000')['user_id'].unique(),\n",
    "       data.query('810<score<915')['user_id'].unique(),\n",
    "       data.query('95000<est_salary<245000')['user_id'].unique()\n",
    "      ]\n",
    "# кодируем параметры, формируем массив массивов отточных пользователей для каждого параметра. \n",
    "group_churn=[data.query('gender_d==1 and churn==1')['user_id'].unique(),\n",
    "       data.query('jaroslavl==1 and churn==1')['user_id'].unique(),\n",
    "       data.query('(21<age<35) and churn==1')['user_id'].unique(),\n",
    "       data.query('(49<age<61) and churn==1')['user_id'].unique(),\n",
    "       data.query('last_activity==1 and churn==1')['user_id'].unique(),\n",
    "       data.query('products>2 and churn==1')['user_id'].unique(),\n",
    "       data.query('credit_card==0 and churn==1')['user_id'].unique(),\n",
    "       data.query('equity>2 and churn==1')['user_id'].unique(),\n",
    "       data.query('balance>1000000 and churn==1')['user_id'].unique(),\n",
    "       data.query('810<score<915 and churn==1')['user_id'].unique(),\n",
    "       data.query('95000<est_salary<245000 and churn==1')['user_id'].unique()\n",
    "      ]"
   ]
  },
  {
   "cell_type": "code",
   "execution_count": 35,
   "metadata": {},
   "outputs": [
    {
     "data": {
      "text/html": [
       "<div>\n",
       "<style scoped>\n",
       "    .dataframe tbody tr th:only-of-type {\n",
       "        vertical-align: middle;\n",
       "    }\n",
       "\n",
       "    .dataframe tbody tr th {\n",
       "        vertical-align: top;\n",
       "    }\n",
       "\n",
       "    .dataframe thead th {\n",
       "        text-align: right;\n",
       "    }\n",
       "</style>\n",
       "<table border=\"1\" class=\"dataframe\">\n",
       "  <thead>\n",
       "    <tr style=\"text-align: right;\">\n",
       "      <th></th>\n",
       "      <th>i</th>\n",
       "      <th>j</th>\n",
       "      <th>k</th>\n",
       "      <th>Отточных</th>\n",
       "      <th>В сегменте</th>\n",
       "      <th>Доля</th>\n",
       "    </tr>\n",
       "  </thead>\n",
       "  <tbody>\n",
       "    <tr>\n",
       "      <th>74</th>\n",
       "      <td>4</td>\n",
       "      <td>7</td>\n",
       "      <td>9</td>\n",
       "      <td>797</td>\n",
       "      <td>1814</td>\n",
       "      <td>0.44</td>\n",
       "    </tr>\n",
       "    <tr>\n",
       "      <th>23</th>\n",
       "      <td>0</td>\n",
       "      <td>7</td>\n",
       "      <td>9</td>\n",
       "      <td>678</td>\n",
       "      <td>1721</td>\n",
       "      <td>0.39</td>\n",
       "    </tr>\n",
       "    <tr>\n",
       "      <th>32</th>\n",
       "      <td>1</td>\n",
       "      <td>4</td>\n",
       "      <td>7</td>\n",
       "      <td>664</td>\n",
       "      <td>1623</td>\n",
       "      <td>0.41</td>\n",
       "    </tr>\n",
       "    <tr>\n",
       "      <th>75</th>\n",
       "      <td>4</td>\n",
       "      <td>7</td>\n",
       "      <td>10</td>\n",
       "      <td>653</td>\n",
       "      <td>1480</td>\n",
       "      <td>0.44</td>\n",
       "    </tr>\n",
       "    <tr>\n",
       "      <th>11</th>\n",
       "      <td>0</td>\n",
       "      <td>4</td>\n",
       "      <td>7</td>\n",
       "      <td>650</td>\n",
       "      <td>1410</td>\n",
       "      <td>0.46</td>\n",
       "    </tr>\n",
       "  </tbody>\n",
       "</table>\n",
       "</div>"
      ],
      "text/plain": [
       "    i  j   k  Отточных  В сегменте  Доля\n",
       "74  4  7   9       797        1814  0.44\n",
       "23  0  7   9       678        1721  0.39\n",
       "32  1  4   7       664        1623  0.41\n",
       "75  4  7  10       653        1480  0.44\n",
       "11  0  4   7       650        1410  0.46"
      ]
     },
     "execution_count": 35,
     "metadata": {},
     "output_type": "execute_result"
    }
   ],
   "source": [
    "# формируем сегменты в каждом по три параметра ijk.\n",
    "triplets = pd.DataFrame({'i': [], 'j': [], 'k': [], 'Отточных':[], 'В сегменте':[], 'Доля':[]})\n",
    "triplets.drop(triplets.index, inplace=True)\n",
    "for i in range(0,11):\n",
    "    for j in range(i+1,11):\n",
    "        for k in range(j+1,11):\n",
    "            num_of_churn=len(set(group_churn[i])&set(group_churn[j])&set(group_churn[k]))\n",
    "            group_size=len(set(group[i])&set(group[j])&set(group[k]))\n",
    "# соблюдаем условие от 300 до 2000 человек в сегменте, уровень оттока в два раза выше среднего и более.\n",
    "            if (300<group_size<2000)and(num_of_churn/group_size>=2*churn_share):\n",
    "                    triplets.loc[len(triplets.index )] = [i, j, k, num_of_churn, group_size, num_of_churn/group_size]\n",
    "triplets=triplets.astype({'i':'int','j':'int','k':'int','Отточных':'int','В сегменте':'int'})\n",
    "triplets.sort_values('Отточных', ascending=False).head(5)"
   ]
  },
  {
   "cell_type": "markdown",
   "metadata": {},
   "source": [
    "Сегменты хорошо, но их много - долго комбинировать. Многожды поиграв выяснилось, что важно не получение высокой доли отточных в сегменте как таковой, а получить возможно больше отточных клиентов в сегменте. Забрав топ 15 таких сегментов строим их комбинации. Но перед этим сделаем функцию для комбинирования"
   ]
  },
  {
   "cell_type": "code",
   "execution_count": 36,
   "metadata": {},
   "outputs": [],
   "source": [
    "# перебираем все комбинации сегментов, сводим в таблицу, сортируем, обрезаем.\n",
    "def triplets_calc1 (triplets):\n",
    "    # создаем столбцы\n",
    "    triplet_groups = pd.DataFrame({'С1Номер': [], 'С1Отток': [], 'С1Всего': [], 'С2Номер': [], 'С2Отток': [], 'С2Всего': [], 'С3Номер': [], 'С3Отток': [], 'С3Всего': [], 'Отточных':[], 'ОтточныхU':[],'В группе':[],'В группеU':[]})\n",
    "    triplet_groups.columns=pd.MultiIndex.from_tuples( [('Сегмент1','№'),(\"Сегмент1\",'Out'),('Сегмент1','All'),(\"Сегмент2\",'№'),('Сегмент2','Out'),(\"Сегмент2\",'All'),('Сегмент3','№'),(\"Сегмент3\",'Out'),(\"Сегмент3\",'All'), ('Отточных', ''),('ОтточныхU', ''), ('В группе', ''), ('В группеU', '')])\n",
    "    triplet_groups.drop(triplet_groups.index, inplace=True)\n",
    "    # шагаем по списку сегментов из входной таблицы тремя индексами\n",
    "    for i in range(0,len(triplets)):\n",
    "        for j in range(i+1,len(triplets)):\n",
    "            for k in range(j+1,len(triplets)):\n",
    "                # находим количество уникальных общих отточных пользователей, которые попадут в охват\n",
    "                num_of_churn=len(\n",
    "                                 set(group_churn[triplets.iloc[i,0]])&set(group_churn[triplets.iloc[i,1]])&set(group_churn[triplets.iloc[i,2]])|\n",
    "                                 set(group_churn[triplets.iloc[j,0]])&set(group_churn[triplets.iloc[j,1]])&set(group_churn[triplets.iloc[j,2]])|\n",
    "                                 set(group_churn[triplets.iloc[k,0]])&set(group_churn[triplets.iloc[k,1]])&set(group_churn[triplets.iloc[k,2]])\n",
    "                                )\n",
    "                # Эта штука нужна чтобы ускорить и не рассматривать группы сегментов дающие мало уникальных отточных в совокупности\n",
    "                if (num_of_churn>900):\n",
    "                # находим количество уникальных общих пользователей, которые попадут в охват\n",
    "                    group_size=len(\n",
    "                               set(group[triplets.iloc[i,0]])&set(group[triplets.iloc[i,1]])&set(group[triplets.iloc[i,2]])|\n",
    "                               set(group[triplets.iloc[j,0]])&set(group[triplets.iloc[j,1]])&set(group[triplets.iloc[j,2]])|\n",
    "                               set(group[triplets.iloc[k,0]])&set(group[triplets.iloc[k,1]])&set(group[triplets.iloc[k,2]])\n",
    "                                ) \n",
    "                    # формируем таблицу с результатами\n",
    "                    triplet_groups.loc[len(triplet_groups.index )] = [i, triplets.iloc[i,3], triplets.iloc[i,4],\n",
    "                                                   j, triplets.iloc[j,3], triplets.iloc[j,4],\n",
    "                                                   k, triplets.iloc[k,3], triplets.iloc[k,4],\n",
    "                                                   triplets.iloc[i,3]+triplets.iloc[j,3]+triplets.iloc[k,3],\n",
    "                                                   num_of_churn,\n",
    "                                                   triplets.iloc[i,4]+triplets.iloc[j,4]+triplets.iloc[k,4],\n",
    "                                                   group_size]\n",
    "    # добавляем общие вещи, форматируем, выдаем.                \n",
    "    triplet_groups['Доля отточныхU']=triplet_groups['ОтточныхU']/triplet_groups['Отточных']   \n",
    "    triplet_groups['Доля всехU']=triplet_groups['ОтточныхU']/triplet_groups['В группеU']\n",
    "    triplet_groups= pd.concat([triplet_groups.iloc[:,:11].astype('int'),triplet_groups.iloc[:,11:]], axis= 1 )\n",
    "    return triplet_groups"
   ]
  },
  {
   "cell_type": "markdown",
   "metadata": {},
   "source": [
    "Забираем таблицу топ 15 сегментов по три признака в каждом по колчиеству отточных и получаем список комбинаций сегментов"
   ]
  },
  {
   "cell_type": "code",
   "execution_count": 37,
   "metadata": {
    "scrolled": true
   },
   "outputs": [
    {
     "data": {
      "text/html": [
       "<div>\n",
       "<style scoped>\n",
       "    .dataframe tbody tr th:only-of-type {\n",
       "        vertical-align: middle;\n",
       "    }\n",
       "\n",
       "    .dataframe tbody tr th {\n",
       "        vertical-align: top;\n",
       "    }\n",
       "\n",
       "    .dataframe thead tr th {\n",
       "        text-align: left;\n",
       "    }\n",
       "</style>\n",
       "<table border=\"1\" class=\"dataframe\">\n",
       "  <thead>\n",
       "    <tr>\n",
       "      <th></th>\n",
       "      <th colspan=\"3\" halign=\"left\">Сегмент1</th>\n",
       "      <th colspan=\"3\" halign=\"left\">Сегмент2</th>\n",
       "      <th colspan=\"3\" halign=\"left\">Сегмент3</th>\n",
       "      <th>Отточных</th>\n",
       "      <th>ОтточныхU</th>\n",
       "      <th>В группе</th>\n",
       "      <th>В группеU</th>\n",
       "      <th>Доля отточныхU</th>\n",
       "      <th>Доля всехU</th>\n",
       "    </tr>\n",
       "    <tr>\n",
       "      <th></th>\n",
       "      <th>№</th>\n",
       "      <th>Out</th>\n",
       "      <th>All</th>\n",
       "      <th>№</th>\n",
       "      <th>Out</th>\n",
       "      <th>All</th>\n",
       "      <th>№</th>\n",
       "      <th>Out</th>\n",
       "      <th>All</th>\n",
       "      <th></th>\n",
       "      <th></th>\n",
       "      <th></th>\n",
       "      <th></th>\n",
       "      <th></th>\n",
       "      <th></th>\n",
       "    </tr>\n",
       "  </thead>\n",
       "  <tbody>\n",
       "    <tr>\n",
       "      <th>365</th>\n",
       "      <td>5</td>\n",
       "      <td>587</td>\n",
       "      <td>1599</td>\n",
       "      <td>13</td>\n",
       "      <td>476</td>\n",
       "      <td>1080</td>\n",
       "      <td>14</td>\n",
       "      <td>473</td>\n",
       "      <td>1085</td>\n",
       "      <td>1536</td>\n",
       "      <td>1130</td>\n",
       "      <td>3,764.00</td>\n",
       "      <td>3,122.00</td>\n",
       "      <td>0.74</td>\n",
       "      <td>0.36</td>\n",
       "    </tr>\n",
       "    <tr>\n",
       "      <th>363</th>\n",
       "      <td>5</td>\n",
       "      <td>587</td>\n",
       "      <td>1599</td>\n",
       "      <td>12</td>\n",
       "      <td>488</td>\n",
       "      <td>916</td>\n",
       "      <td>13</td>\n",
       "      <td>476</td>\n",
       "      <td>1080</td>\n",
       "      <td>1551</td>\n",
       "      <td>1125</td>\n",
       "      <td>3,595.00</td>\n",
       "      <td>2,954.00</td>\n",
       "      <td>0.73</td>\n",
       "      <td>0.38</td>\n",
       "    </tr>\n",
       "    <tr>\n",
       "      <th>429</th>\n",
       "      <td>9</td>\n",
       "      <td>547</td>\n",
       "      <td>1336</td>\n",
       "      <td>13</td>\n",
       "      <td>476</td>\n",
       "      <td>1080</td>\n",
       "      <td>14</td>\n",
       "      <td>473</td>\n",
       "      <td>1085</td>\n",
       "      <td>1496</td>\n",
       "      <td>1058</td>\n",
       "      <td>3,501.00</td>\n",
       "      <td>2,759.00</td>\n",
       "      <td>0.71</td>\n",
       "      <td>0.38</td>\n",
       "    </tr>\n",
       "  </tbody>\n",
       "</table>\n",
       "</div>"
      ],
      "text/plain": [
       "    Сегмент1            Сегмент2            Сегмент3            Отточных  \\\n",
       "           №  Out   All        №  Out   All        №  Out   All            \n",
       "365        5  587  1599       13  476  1080       14  473  1085     1536   \n",
       "363        5  587  1599       12  488   916       13  476  1080     1551   \n",
       "429        9  547  1336       13  476  1080       14  473  1085     1496   \n",
       "\n",
       "    ОтточныхU В группе В группеU Доля отточныхU Доля всехU  \n",
       "                                                            \n",
       "365      1130 3,764.00  3,122.00           0.74       0.36  \n",
       "363      1125 3,595.00  2,954.00           0.73       0.38  \n",
       "429      1058 3,501.00  2,759.00           0.71       0.38  "
      ]
     },
     "execution_count": 37,
     "metadata": {},
     "output_type": "execute_result"
    }
   ],
   "source": [
    "tr_out_top=triplets.sort_values('Отточных', ascending=False).head(15)\n",
    "trr=triplets_calc1(tr_out_top)\n",
    "trr.sort_values('Доля отточныхU', ascending=False).head(3)"
   ]
  },
  {
   "cell_type": "markdown",
   "metadata": {},
   "source": [
    "В этой таблице в начале - описания сегментов, входящих в группу, далее \n",
    "\n",
    "    Отточных-суммарное количество оттчных в группе, \n",
    "    ОтточныхU - общее количество уникальных отточных в группе , \n",
    "    В группе - суммарное количество клиентов в группе, \n",
    "    В группеU - общее количество уникальных клиентов в группе, \n",
    "    Доля отточныхU - доля уникальных отточных от суммарных отточных в группе,\n",
    "    Доля всехU - доля уникальных отточных от уникальных всех.\n",
    "\n",
    "Видно, что топовой комбинацией мы закрываем 1130 отточных клиента. Посмотрим, что из себя представляют сегменты топовой группы"
   ]
  },
  {
   "cell_type": "code",
   "execution_count": 38,
   "metadata": {},
   "outputs": [
    {
     "data": {
      "text/html": [
       "<div>\n",
       "<style scoped>\n",
       "    .dataframe tbody tr th:only-of-type {\n",
       "        vertical-align: middle;\n",
       "    }\n",
       "\n",
       "    .dataframe tbody tr th {\n",
       "        vertical-align: top;\n",
       "    }\n",
       "\n",
       "    .dataframe thead th {\n",
       "        text-align: right;\n",
       "    }\n",
       "</style>\n",
       "<table border=\"1\" class=\"dataframe\">\n",
       "  <thead>\n",
       "    <tr style=\"text-align: right;\">\n",
       "      <th></th>\n",
       "      <th>i</th>\n",
       "      <th>j</th>\n",
       "      <th>k</th>\n",
       "      <th>Отточных</th>\n",
       "      <th>В сегменте</th>\n",
       "      <th>Доля</th>\n",
       "    </tr>\n",
       "  </thead>\n",
       "  <tbody>\n",
       "    <tr>\n",
       "      <th>2</th>\n",
       "      <td>0</td>\n",
       "      <td>1</td>\n",
       "      <td>7</td>\n",
       "      <td>587</td>\n",
       "      <td>1599</td>\n",
       "      <td>0.37</td>\n",
       "    </tr>\n",
       "    <tr>\n",
       "      <th>71</th>\n",
       "      <td>4</td>\n",
       "      <td>6</td>\n",
       "      <td>9</td>\n",
       "      <td>476</td>\n",
       "      <td>1080</td>\n",
       "      <td>0.44</td>\n",
       "    </tr>\n",
       "    <tr>\n",
       "      <th>92</th>\n",
       "      <td>7</td>\n",
       "      <td>8</td>\n",
       "      <td>10</td>\n",
       "      <td>473</td>\n",
       "      <td>1085</td>\n",
       "      <td>0.44</td>\n",
       "    </tr>\n",
       "  </tbody>\n",
       "</table>\n",
       "</div>"
      ],
      "text/plain": [
       "    i  j   k  Отточных  В сегменте  Доля\n",
       "2   0  1   7       587        1599  0.37\n",
       "71  4  6   9       476        1080  0.44\n",
       "92  7  8  10       473        1085  0.44"
      ]
     },
     "execution_count": 38,
     "metadata": {},
     "output_type": "execute_result"
    }
   ],
   "source": [
    "tr_out_top.iloc[[5,13,14]]"
   ]
  },
  {
   "cell_type": "code",
   "execution_count": 39,
   "metadata": {},
   "outputs": [
    {
     "data": {
      "text/plain": [
       "798261661.51"
      ]
     },
     "execution_count": 39,
     "metadata": {},
     "output_type": "execute_result"
    }
   ],
   "source": [
    "data.query('(equity>2)and(balance>1000000)and(95000<est_salary<245000)and(churn==1)')['balance'].sum()"
   ]
  },
  {
   "cell_type": "code",
   "execution_count": 40,
   "metadata": {},
   "outputs": [
    {
     "data": {
      "text/plain": [
       "'Сегмент 1. Сравнительные портреты лояльного и нелояльного клиентов'"
      ]
     },
     "metadata": {},
     "output_type": "display_data"
    },
    {
     "data": {
      "text/html": [
       "<div>\n",
       "<style scoped>\n",
       "    .dataframe tbody tr th:only-of-type {\n",
       "        vertical-align: middle;\n",
       "    }\n",
       "\n",
       "    .dataframe tbody tr th {\n",
       "        vertical-align: top;\n",
       "    }\n",
       "\n",
       "    .dataframe thead tr th {\n",
       "        text-align: left;\n",
       "    }\n",
       "</style>\n",
       "<table border=\"1\" class=\"dataframe\">\n",
       "  <thead>\n",
       "    <tr>\n",
       "      <th></th>\n",
       "      <th colspan=\"3\" halign=\"left\">Лояльные</th>\n",
       "      <th colspan=\"3\" halign=\"left\">Отточные</th>\n",
       "    </tr>\n",
       "    <tr>\n",
       "      <th></th>\n",
       "      <th></th>\n",
       "      <th>Среднее</th>\n",
       "      <th>Медиана</th>\n",
       "      <th></th>\n",
       "      <th>Среднее</th>\n",
       "      <th>Медиана</th>\n",
       "    </tr>\n",
       "  </thead>\n",
       "  <tbody>\n",
       "    <tr>\n",
       "      <th>Пол</th>\n",
       "      <td>М</td>\n",
       "      <td></td>\n",
       "      <td></td>\n",
       "      <td>М</td>\n",
       "      <td></td>\n",
       "      <td></td>\n",
       "    </tr>\n",
       "    <tr>\n",
       "      <th>Город</th>\n",
       "      <td>Ярославль</td>\n",
       "      <td></td>\n",
       "      <td></td>\n",
       "      <td>Ярославль</td>\n",
       "      <td></td>\n",
       "      <td></td>\n",
       "    </tr>\n",
       "    <tr>\n",
       "      <th>Возраст</th>\n",
       "      <td></td>\n",
       "      <td>40</td>\n",
       "      <td>39</td>\n",
       "      <td></td>\n",
       "      <td>40</td>\n",
       "      <td>37</td>\n",
       "    </tr>\n",
       "    <tr>\n",
       "      <th>Активность</th>\n",
       "      <td></td>\n",
       "      <td></td>\n",
       "      <td>0</td>\n",
       "      <td></td>\n",
       "      <td></td>\n",
       "      <td>1</td>\n",
       "    </tr>\n",
       "    <tr>\n",
       "      <th>Продукты</th>\n",
       "      <td></td>\n",
       "      <td></td>\n",
       "      <td>2</td>\n",
       "      <td></td>\n",
       "      <td></td>\n",
       "      <td>2</td>\n",
       "    </tr>\n",
       "    <tr>\n",
       "      <th>Кредитка</th>\n",
       "      <td></td>\n",
       "      <td></td>\n",
       "      <td>1</td>\n",
       "      <td></td>\n",
       "      <td></td>\n",
       "      <td>1</td>\n",
       "    </tr>\n",
       "    <tr>\n",
       "      <th>Собственность</th>\n",
       "      <td></td>\n",
       "      <td></td>\n",
       "      <td>4</td>\n",
       "      <td></td>\n",
       "      <td></td>\n",
       "      <td>4</td>\n",
       "    </tr>\n",
       "    <tr>\n",
       "      <th>Баланс</th>\n",
       "      <td></td>\n",
       "      <td>1,208,290</td>\n",
       "      <td>617,017</td>\n",
       "      <td></td>\n",
       "      <td>1,566,617</td>\n",
       "      <td>1,003,592</td>\n",
       "    </tr>\n",
       "    <tr>\n",
       "      <th>Скоринг</th>\n",
       "      <td></td>\n",
       "      <td>845</td>\n",
       "      <td>838</td>\n",
       "      <td></td>\n",
       "      <td>873</td>\n",
       "      <td>875</td>\n",
       "    </tr>\n",
       "    <tr>\n",
       "      <th>Доход</th>\n",
       "      <td></td>\n",
       "      <td>145,534</td>\n",
       "      <td>115,356</td>\n",
       "      <td></td>\n",
       "      <td>171,247</td>\n",
       "      <td>138,427</td>\n",
       "    </tr>\n",
       "  </tbody>\n",
       "</table>\n",
       "</div>"
      ],
      "text/plain": [
       "                Лояльные                     Отточные                    \n",
       "                           Среднее Медиана              Среднее   Медиана\n",
       "Пол                    М                            М                    \n",
       "Город          Ярославль                    Ярославль                    \n",
       "Возраст                         40      39                   40        37\n",
       "Активность                               0                              1\n",
       "Продукты                                 2                              2\n",
       "Кредитка                                 1                              1\n",
       "Собственность                            4                              4\n",
       "Баланс                   1,208,290 617,017            1,566,617 1,003,592\n",
       "Скоринг                        845     838                  873       875\n",
       "Доход                      145,534 115,356              171,247   138,427"
      ]
     },
     "metadata": {},
     "output_type": "display_data"
    },
    {
     "data": {
      "text/plain": [
       "'Сегмент 2. Сравнительные портреты лояльного и нелояльного клиентов'"
      ]
     },
     "metadata": {},
     "output_type": "display_data"
    },
    {
     "data": {
      "text/html": [
       "<div>\n",
       "<style scoped>\n",
       "    .dataframe tbody tr th:only-of-type {\n",
       "        vertical-align: middle;\n",
       "    }\n",
       "\n",
       "    .dataframe tbody tr th {\n",
       "        vertical-align: top;\n",
       "    }\n",
       "\n",
       "    .dataframe thead tr th {\n",
       "        text-align: left;\n",
       "    }\n",
       "</style>\n",
       "<table border=\"1\" class=\"dataframe\">\n",
       "  <thead>\n",
       "    <tr>\n",
       "      <th></th>\n",
       "      <th colspan=\"3\" halign=\"left\">Лояльные</th>\n",
       "      <th colspan=\"3\" halign=\"left\">Отточные</th>\n",
       "    </tr>\n",
       "    <tr>\n",
       "      <th></th>\n",
       "      <th></th>\n",
       "      <th>Среднее</th>\n",
       "      <th>Медиана</th>\n",
       "      <th></th>\n",
       "      <th>Среднее</th>\n",
       "      <th>Медиана</th>\n",
       "    </tr>\n",
       "  </thead>\n",
       "  <tbody>\n",
       "    <tr>\n",
       "      <th>Пол</th>\n",
       "      <td>Ж</td>\n",
       "      <td></td>\n",
       "      <td></td>\n",
       "      <td>Ж</td>\n",
       "      <td></td>\n",
       "      <td></td>\n",
       "    </tr>\n",
       "    <tr>\n",
       "      <th>Город</th>\n",
       "      <td>Ярославль</td>\n",
       "      <td></td>\n",
       "      <td></td>\n",
       "      <td>Ярославль</td>\n",
       "      <td></td>\n",
       "      <td></td>\n",
       "    </tr>\n",
       "    <tr>\n",
       "      <th>Возраст</th>\n",
       "      <td></td>\n",
       "      <td>48</td>\n",
       "      <td>46</td>\n",
       "      <td></td>\n",
       "      <td>41</td>\n",
       "      <td>38</td>\n",
       "    </tr>\n",
       "    <tr>\n",
       "      <th>Активность</th>\n",
       "      <td></td>\n",
       "      <td></td>\n",
       "      <td>1</td>\n",
       "      <td></td>\n",
       "      <td></td>\n",
       "      <td>1</td>\n",
       "    </tr>\n",
       "    <tr>\n",
       "      <th>Продукты</th>\n",
       "      <td></td>\n",
       "      <td></td>\n",
       "      <td>2</td>\n",
       "      <td></td>\n",
       "      <td></td>\n",
       "      <td>2</td>\n",
       "    </tr>\n",
       "    <tr>\n",
       "      <th>Кредитка</th>\n",
       "      <td></td>\n",
       "      <td></td>\n",
       "      <td>0</td>\n",
       "      <td></td>\n",
       "      <td></td>\n",
       "      <td>0</td>\n",
       "    </tr>\n",
       "    <tr>\n",
       "      <th>Собственность</th>\n",
       "      <td></td>\n",
       "      <td></td>\n",
       "      <td>3</td>\n",
       "      <td></td>\n",
       "      <td></td>\n",
       "      <td>4</td>\n",
       "    </tr>\n",
       "    <tr>\n",
       "      <th>Баланс</th>\n",
       "      <td></td>\n",
       "      <td>753,441</td>\n",
       "      <td>564,782</td>\n",
       "      <td></td>\n",
       "      <td>1,051,794</td>\n",
       "      <td>847,449</td>\n",
       "    </tr>\n",
       "    <tr>\n",
       "      <th>Скоринг</th>\n",
       "      <td></td>\n",
       "      <td>861</td>\n",
       "      <td>858</td>\n",
       "      <td></td>\n",
       "      <td>870</td>\n",
       "      <td>871</td>\n",
       "    </tr>\n",
       "    <tr>\n",
       "      <th>Доход</th>\n",
       "      <td></td>\n",
       "      <td>123,657</td>\n",
       "      <td>103,815</td>\n",
       "      <td></td>\n",
       "      <td>138,802</td>\n",
       "      <td>127,462</td>\n",
       "    </tr>\n",
       "  </tbody>\n",
       "</table>\n",
       "</div>"
      ],
      "text/plain": [
       "                Лояльные                   Отточные                  \n",
       "                         Среднее Медиана              Среднее Медиана\n",
       "Пол                    Ж                          Ж                  \n",
       "Город          Ярославль                  Ярославль                  \n",
       "Возраст                       48      46                   41      38\n",
       "Активность                             1                            1\n",
       "Продукты                               2                            2\n",
       "Кредитка                               0                            0\n",
       "Собственность                          3                            4\n",
       "Баланс                   753,441 564,782            1,051,794 847,449\n",
       "Скоринг                      861     858                  870     871\n",
       "Доход                    123,657 103,815              138,802 127,462"
      ]
     },
     "metadata": {},
     "output_type": "display_data"
    },
    {
     "data": {
      "text/plain": [
       "'Сегмент 3. Сравнительные портреты лояльного и нелояльного клиентов'"
      ]
     },
     "metadata": {},
     "output_type": "display_data"
    },
    {
     "data": {
      "text/html": [
       "<div>\n",
       "<style scoped>\n",
       "    .dataframe tbody tr th:only-of-type {\n",
       "        vertical-align: middle;\n",
       "    }\n",
       "\n",
       "    .dataframe tbody tr th {\n",
       "        vertical-align: top;\n",
       "    }\n",
       "\n",
       "    .dataframe thead tr th {\n",
       "        text-align: left;\n",
       "    }\n",
       "</style>\n",
       "<table border=\"1\" class=\"dataframe\">\n",
       "  <thead>\n",
       "    <tr>\n",
       "      <th></th>\n",
       "      <th colspan=\"3\" halign=\"left\">Лояльные</th>\n",
       "      <th colspan=\"3\" halign=\"left\">Отточные</th>\n",
       "    </tr>\n",
       "    <tr>\n",
       "      <th></th>\n",
       "      <th></th>\n",
       "      <th>Среднее</th>\n",
       "      <th>Медиана</th>\n",
       "      <th></th>\n",
       "      <th>Среднее</th>\n",
       "      <th>Медиана</th>\n",
       "    </tr>\n",
       "  </thead>\n",
       "  <tbody>\n",
       "    <tr>\n",
       "      <th>Пол</th>\n",
       "      <td>Ж</td>\n",
       "      <td></td>\n",
       "      <td></td>\n",
       "      <td>М</td>\n",
       "      <td></td>\n",
       "      <td></td>\n",
       "    </tr>\n",
       "    <tr>\n",
       "      <th>Город</th>\n",
       "      <td>Ярославль</td>\n",
       "      <td></td>\n",
       "      <td></td>\n",
       "      <td>Ярославль</td>\n",
       "      <td></td>\n",
       "      <td></td>\n",
       "    </tr>\n",
       "    <tr>\n",
       "      <th>Возраст</th>\n",
       "      <td></td>\n",
       "      <td>45</td>\n",
       "      <td>43</td>\n",
       "      <td></td>\n",
       "      <td>42</td>\n",
       "      <td>40</td>\n",
       "    </tr>\n",
       "    <tr>\n",
       "      <th>Активность</th>\n",
       "      <td></td>\n",
       "      <td></td>\n",
       "      <td>0</td>\n",
       "      <td></td>\n",
       "      <td></td>\n",
       "      <td>1</td>\n",
       "    </tr>\n",
       "    <tr>\n",
       "      <th>Продукты</th>\n",
       "      <td></td>\n",
       "      <td></td>\n",
       "      <td>2</td>\n",
       "      <td></td>\n",
       "      <td></td>\n",
       "      <td>2</td>\n",
       "    </tr>\n",
       "    <tr>\n",
       "      <th>Кредитка</th>\n",
       "      <td></td>\n",
       "      <td></td>\n",
       "      <td>1</td>\n",
       "      <td></td>\n",
       "      <td></td>\n",
       "      <td>0</td>\n",
       "    </tr>\n",
       "    <tr>\n",
       "      <th>Собственность</th>\n",
       "      <td></td>\n",
       "      <td></td>\n",
       "      <td>4</td>\n",
       "      <td></td>\n",
       "      <td></td>\n",
       "      <td>4</td>\n",
       "    </tr>\n",
       "    <tr>\n",
       "      <th>Баланс</th>\n",
       "      <td></td>\n",
       "      <td>1,757,093</td>\n",
       "      <td>1,315,774</td>\n",
       "      <td></td>\n",
       "      <td>1,687,657</td>\n",
       "      <td>1,475,496</td>\n",
       "    </tr>\n",
       "    <tr>\n",
       "      <th>Скоринг</th>\n",
       "      <td></td>\n",
       "      <td>871</td>\n",
       "      <td>881</td>\n",
       "      <td></td>\n",
       "      <td>888</td>\n",
       "      <td>894</td>\n",
       "    </tr>\n",
       "    <tr>\n",
       "      <th>Доход</th>\n",
       "      <td></td>\n",
       "      <td>154,639</td>\n",
       "      <td>145,824</td>\n",
       "      <td></td>\n",
       "      <td>162,524</td>\n",
       "      <td>161,113</td>\n",
       "    </tr>\n",
       "  </tbody>\n",
       "</table>\n",
       "</div>"
      ],
      "text/plain": [
       "                Лояльные                       Отточные                    \n",
       "                           Среднее   Медиана              Среднее   Медиана\n",
       "Пол                    Ж                              М                    \n",
       "Город          Ярославль                      Ярославль                    \n",
       "Возраст                         45        43                   42        40\n",
       "Активность                                 0                              1\n",
       "Продукты                                   2                              2\n",
       "Кредитка                                   1                              0\n",
       "Собственность                              4                              4\n",
       "Баланс                   1,757,093 1,315,774            1,687,657 1,475,496\n",
       "Скоринг                        871       881                  888       894\n",
       "Доход                      154,639   145,824              162,524   161,113"
      ]
     },
     "metadata": {},
     "output_type": "display_data"
    },
    {
     "data": {
      "text/plain": [
       "'Сравнительные портреты нелояльных клиентов трех выбранных сегментов'"
      ]
     },
     "metadata": {},
     "output_type": "display_data"
    },
    {
     "data": {
      "text/html": [
       "<div>\n",
       "<style scoped>\n",
       "    .dataframe tbody tr th:only-of-type {\n",
       "        vertical-align: middle;\n",
       "    }\n",
       "\n",
       "    .dataframe tbody tr th {\n",
       "        vertical-align: top;\n",
       "    }\n",
       "\n",
       "    .dataframe thead tr th {\n",
       "        text-align: left;\n",
       "    }\n",
       "</style>\n",
       "<table border=\"1\" class=\"dataframe\">\n",
       "  <thead>\n",
       "    <tr>\n",
       "      <th></th>\n",
       "      <th colspan=\"3\" halign=\"left\">Отточные сегмент 1</th>\n",
       "      <th colspan=\"3\" halign=\"left\">Отточные сегмент 2</th>\n",
       "      <th colspan=\"3\" halign=\"left\">Отточные сегмент 3</th>\n",
       "    </tr>\n",
       "    <tr>\n",
       "      <th></th>\n",
       "      <th></th>\n",
       "      <th>Среднее</th>\n",
       "      <th>Медиана</th>\n",
       "      <th></th>\n",
       "      <th>Среднее</th>\n",
       "      <th>Медиана</th>\n",
       "      <th></th>\n",
       "      <th>Среднее</th>\n",
       "      <th>Медиана</th>\n",
       "    </tr>\n",
       "  </thead>\n",
       "  <tbody>\n",
       "    <tr>\n",
       "      <th>Пол</th>\n",
       "      <td>М</td>\n",
       "      <td></td>\n",
       "      <td></td>\n",
       "      <td>Ж</td>\n",
       "      <td></td>\n",
       "      <td></td>\n",
       "      <td>М</td>\n",
       "      <td></td>\n",
       "      <td></td>\n",
       "    </tr>\n",
       "    <tr>\n",
       "      <th>Город</th>\n",
       "      <td>Ярославль</td>\n",
       "      <td></td>\n",
       "      <td></td>\n",
       "      <td>Ярославль</td>\n",
       "      <td></td>\n",
       "      <td></td>\n",
       "      <td>Ярославль</td>\n",
       "      <td></td>\n",
       "      <td></td>\n",
       "    </tr>\n",
       "    <tr>\n",
       "      <th>Возраст</th>\n",
       "      <td></td>\n",
       "      <td>40.00</td>\n",
       "      <td>37.00</td>\n",
       "      <td></td>\n",
       "      <td>40.95</td>\n",
       "      <td>38.00</td>\n",
       "      <td></td>\n",
       "      <td>42.28</td>\n",
       "      <td>40.00</td>\n",
       "    </tr>\n",
       "    <tr>\n",
       "      <th>Активность</th>\n",
       "      <td></td>\n",
       "      <td></td>\n",
       "      <td>1.00</td>\n",
       "      <td></td>\n",
       "      <td></td>\n",
       "      <td>1.00</td>\n",
       "      <td></td>\n",
       "      <td></td>\n",
       "      <td>1.00</td>\n",
       "    </tr>\n",
       "    <tr>\n",
       "      <th>Продукты</th>\n",
       "      <td></td>\n",
       "      <td></td>\n",
       "      <td>2.00</td>\n",
       "      <td></td>\n",
       "      <td></td>\n",
       "      <td>2.00</td>\n",
       "      <td></td>\n",
       "      <td></td>\n",
       "      <td>2.00</td>\n",
       "    </tr>\n",
       "    <tr>\n",
       "      <th>Кредитка</th>\n",
       "      <td></td>\n",
       "      <td></td>\n",
       "      <td>1.00</td>\n",
       "      <td></td>\n",
       "      <td></td>\n",
       "      <td>0.00</td>\n",
       "      <td></td>\n",
       "      <td></td>\n",
       "      <td>0.00</td>\n",
       "    </tr>\n",
       "    <tr>\n",
       "      <th>Собственность</th>\n",
       "      <td></td>\n",
       "      <td></td>\n",
       "      <td>4.00</td>\n",
       "      <td></td>\n",
       "      <td></td>\n",
       "      <td>4.00</td>\n",
       "      <td></td>\n",
       "      <td></td>\n",
       "      <td>4.00</td>\n",
       "    </tr>\n",
       "    <tr>\n",
       "      <th>Баланс</th>\n",
       "      <td></td>\n",
       "      <td>1,566,617.29</td>\n",
       "      <td>1,003,591.92</td>\n",
       "      <td></td>\n",
       "      <td>1,051,794.00</td>\n",
       "      <td>847,449.16</td>\n",
       "      <td></td>\n",
       "      <td>1,687,656.79</td>\n",
       "      <td>1,475,495.83</td>\n",
       "    </tr>\n",
       "    <tr>\n",
       "      <th>Скоринг</th>\n",
       "      <td></td>\n",
       "      <td>872.69</td>\n",
       "      <td>875.00</td>\n",
       "      <td></td>\n",
       "      <td>870.30</td>\n",
       "      <td>871.00</td>\n",
       "      <td></td>\n",
       "      <td>888.22</td>\n",
       "      <td>894.00</td>\n",
       "    </tr>\n",
       "    <tr>\n",
       "      <th>Доход</th>\n",
       "      <td></td>\n",
       "      <td>171,246.66</td>\n",
       "      <td>138,427.18</td>\n",
       "      <td></td>\n",
       "      <td>138,802.07</td>\n",
       "      <td>127,462.38</td>\n",
       "      <td></td>\n",
       "      <td>162,524.35</td>\n",
       "      <td>161,113.05</td>\n",
       "    </tr>\n",
       "  </tbody>\n",
       "</table>\n",
       "</div>"
      ],
      "text/plain": [
       "              Отточные сегмент 1                           Отточные сегмент 2  \\\n",
       "                                      Среднее      Медиана                      \n",
       "Пол                            М                                            Ж   \n",
       "Город                  Ярославль                                    Ярославль   \n",
       "Возраст                                 40.00        37.00                      \n",
       "Активность                                            1.00                      \n",
       "Продукты                                              2.00                      \n",
       "Кредитка                                              1.00                      \n",
       "Собственность                                         4.00                      \n",
       "Баланс                           1,566,617.29 1,003,591.92                      \n",
       "Скоринг                                872.69       875.00                      \n",
       "Доход                              171,246.66   138,427.18                      \n",
       "\n",
       "                                      Отточные сегмент 3               \\\n",
       "                   Среднее    Медиана                         Среднее   \n",
       "Пол                                                    М                \n",
       "Город                                          Ярославль                \n",
       "Возраст              40.95      38.00                           42.28   \n",
       "Активность                       1.00                                   \n",
       "Продукты                         2.00                                   \n",
       "Кредитка                         0.00                                   \n",
       "Собственность                    4.00                                   \n",
       "Баланс        1,051,794.00 847,449.16                    1,687,656.79   \n",
       "Скоринг             870.30     871.00                          888.22   \n",
       "Доход           138,802.07 127,462.38                      162,524.35   \n",
       "\n",
       "                            \n",
       "                   Медиана  \n",
       "Пол                         \n",
       "Город                       \n",
       "Возраст              40.00  \n",
       "Активность            1.00  \n",
       "Продукты              2.00  \n",
       "Кредитка              0.00  \n",
       "Собственность         4.00  \n",
       "Баланс        1,475,495.83  \n",
       "Скоринг             894.00  \n",
       "Доход           161,113.05  "
      ]
     },
     "execution_count": 40,
     "metadata": {},
     "output_type": "execute_result"
    }
   ],
   "source": [
    "display('Сегмент 1. Сравнительные портреты лояльного и нелояльного клиентов')\n",
    "portrait_segment1=portrait_maker(data.query('(gender==\"М\")and(city==\"Ярославль\")and(equity>2)'));\n",
    "display('Сегмент 2. Сравнительные портреты лояльного и нелояльного клиентов')\n",
    "portrait_segment2=portrait_maker(data.query('(credit_card==0)and(last_activity==1)and(810<score<915)'));\n",
    "display('Сегмент 3. Сравнительные портреты лояльного и нелояльного клиентов')\n",
    "portrait_segment3=portrait_maker(data.query('(equity>2)and(balance>1000000)and(95000<est_salary<245000)'));\n",
    "\n",
    "display('Сравнительные портреты нелояльных клиентов трех выбранных сегментов')\n",
    "merged_portrait = pd.merge(portrait_segment1, portrait_segment2, left_index=True, right_index=True);\n",
    "merged_portrait = pd.merge(merged_portrait, portrait_segment3, left_index=True, right_index=True);\n",
    "merged_portrait.columns=pd.MultiIndex.from_tuples( [('Отточные сегмент 1',''),(\"Отточные сегмент 1\",'Среднее'),(\"Отточные сегмент 1\",'Медиана'),('Отточные сегмент 2',''),(\"Отточные сегмент 2\",'Среднее'),(\"Отточные сегмент 2\",'Медиана'),('Отточные сегмент 3',''),(\"Отточные сегмент 3\",'Среднее'),(\"Отточные сегмент 3\",'Медиана')]);\n",
    "merged_portrait"
   ]
  },
  {
   "cell_type": "markdown",
   "metadata": {},
   "source": [
    "### Для сегментов определить возможные причины оттока, предложить преимущества, способные оставить клиента клиентом."
   ]
  },
  {
   "cell_type": "markdown",
   "metadata": {},
   "source": [
    "__Сегмент 1__\n",
    "\n",
    "1599 человек, 587 отточных = 37%.\n",
    "\n",
    "Объединяющие признаки - Мужчины из города Ярославль с оценкой собственности >2\n",
    "\n",
    "Отличие нелояльных от лояльных в рамках сегмента - Активность, медианный баланс 1 млн против 600 тыс.\n",
    "\n",
    "Рекомендации по сохранению\n",
    "\n",
    "    Активность - упрощение рутинных процедур типа авторизации, оплаты счетов, переводов средств между своими счетами.\n",
    "    Высокий баланс - предложение выгодных условий по депозитам, офз, 1хbet и прочим средствам сохранения и преумножения капитала.\n",
    "\n",
    "__Сегмент 2__\n",
    "\n",
    "1080 человек, 476 отточных = 44%\n",
    "\n",
    "Объединяющие признаки - Активные, не имеющие кредитной карты клиенты со скоринговым баллом от 810 до 915.\n",
    "\n",
    "Отличие нелояльных от лояльных в рамках сегмента - возраст 38 против 46, собственность 4 против 3, баланс 847 против 564 тыр, доход 127 против 103 тыр.\n",
    "\n",
    "Рекомендации по сохранению:\n",
    "\n",
    "    В этом сегменте собраны Активные люди не имеющие кредитной карты. Значит они имеют таковую в другом банке - предложить лучшие условия.\n",
    "    Активность - упрощение рутинных процедур типа авторизации, оплаты счетов, переводов средств между своими счетами.\n",
    "    Собственность - выгодные условия перекредитования/кредитования под залог недвижимого имущества.\n",
    "\n",
    "__Сегмент 3__\n",
    "\n",
    "1085 человек, 473 отточных = 44%\n",
    "\n",
    "Объединяющие признаки - Клиенты с оценкой собственности >2, имеющие на балансе более 1 млн. рублей, с доходом от 95 до 245 тыр.\n",
    "\n",
    "Отличие нелояльных от лояльных в рамках сегмента - пол М против Ж, Активность, отсутствие кредитной карты, \n",
    "\n",
    "Рекомендации по сохранению:\n",
    "\n",
    "    Активность - упрощение рутинных процедур типа авторизации, оплаты счетов, переводов средств между своими счетами.\n",
    "    Отсутствие кредитной карты при зп 160 тыр означает, что они имеют таковую в другом банке - предложить лучшие условия.\n",
    "    В этом сегменте у людей дорогая собственность. Предложить выгодные условия перекредитования/кредитования под залог недвижимого имущества.\n",
    "\n",
    "__Общие рекомендации по отточным клиентам__:\n",
    "\n",
    "    Работа с активными клиентами - упрощение рутинных процедур.\n",
    "    Во всех отточных портретах выше 2 продукта - по идее это счет и дебетовая карта. Нужно развитие направления депозитов, работы с ценными бумагами, кредитованием.\n",
    "    Все портреты - клиенты с собственностью 4. Им можно предложить операции с кредитованием/перекредитованием под залог недвижимости.\n",
    "    У многих отсутствуют кредитные карты нашего банка. Необходимо предложить лучшие условия, чем они имеют сейчас.\n",
    "    Баланс 800 тыр - 1.5 млн. Должны быть востребованы средства вложения и сохранения денег. Снова депозиты и другие модные штуки. \n",
    "    \n",
    "__Приоритет работы с сегментами__\n",
    "\n",
    "В первую очередь следует работать с __Сегментом 3__. Этот сегмент включает 1085 человек, 44% которых нелояльны. При этом обладают средним балансом в ~1.7 млн. рублей, совокупным балансом 798 млн. рублей и высокой концентрацией отточных.\n",
    "\n",
    "Во вторую очередь - с __Сегментом 2__. Этот сегмент включает 1080 человек из которых 44% нелояльны. Преимущества этой группы перед первой - высокая концентрация нелояльных и меньший размер группы."
   ]
  },
  {
   "cell_type": "markdown",
   "metadata": {},
   "source": [
    "## Формулируем общие выводы"
   ]
  },
  {
   "cell_type": "markdown",
   "metadata": {},
   "source": [
    "Получены данные о 10 000 клиентов. \n",
    "\n",
    "Выявлено 2295 пропусков в поле баланс. Обязательно необходимо проверить с чем это связано. Пока клиенты не начали спрашивать об этом со своей стороны.\n",
    "\n",
    "Выявлены 73 дубля в поле user_id. Одинаковые user_id присваивались в Ярославле и Рыбинске. Необходимо проверть что не так. \n"
   ]
  },
  {
   "cell_type": "markdown",
   "metadata": {},
   "source": [
    "__Определено что 18% клиентов планируют покинуть банк это клиенты с суммарным известным балансом 2 млрд. рублей.__\n",
    "\n",
    "В таблице ниже приведены основные характеристики параметров, связанных с оттоком клиентов.\n",
    "\n",
    "<table>\n",
    "  <tr>\n",
    "    <td><b>Параметр</b></td>\n",
    "    <td><b>Варьируется от и до</b></td>  \n",
    "    <td><b>Диапазон где сравнительно<br> много отточных клиентов</b></td>\n",
    "    <td><b>Количество отточных<br> в диапазоне</b></td>\n",
    "    <td><b>Количество клиентов<br> в диапазоне</b></td>\n",
    "    <td><b>Доля</b></td>\n",
    "  </tr>\n",
    "  <tr>\n",
    "    <td>Кредитный скоринг</td>\n",
    "    <td>642-1000</td>\n",
    "    <td>820-915</td>\n",
    "    <td>4969</td>\n",
    "    <td>1170</td>\n",
    "    <td>23%</td>\n",
    "  </tr>\n",
    "  <tr>\n",
    "    <td>Город</td>\n",
    "    <td>Ярославль, Рыбинск, Ростов</td>\n",
    "    <td>Ярославль</td>\n",
    "    <td>5888</td>\n",
    "    <td>1117</td>\n",
    "    <td>19%</td>\n",
    "  </tr>  \n",
    "  <tr>\n",
    "    <td>Пол</td>\n",
    "    <td>Мужской, Женский</td>\n",
    "    <td>Мужской</td>\n",
    "    <td>5005</td>\n",
    "    <td>1183</td>\n",
    "    <td>24%</td>\n",
    "  </tr>     \n",
    "  <tr>\n",
    "    <td>Возраст</td>\n",
    "    <td>18-86</td>\n",
    "    <td>21-35 или 49-61</td>\n",
    "    <td>4604</td>\n",
    "    <td>1081</td>\n",
    "    <td>23%</td>\n",
    "  </tr>       \n",
    "  <tr>\n",
    "    <td>Оценка собственности</td>\n",
    "    <td>0-9</td>\n",
    "    <td>3-9</td>\n",
    "    <td>5582</td>\n",
    "    <td>1471</td>\n",
    "    <td>26%</td>\n",
    "  </tr>  \t\t\t\n",
    "  <tr>\n",
    "    <td>Баланс</td>\n",
    "    <td>0-100 млн.</td>\n",
    "    <td>более 1 млн.</td>\n",
    "    <td>1876</td>\n",
    "    <td>722</td>\n",
    "    <td>38%</td>\n",
    "  </tr>   \n",
    "  <tr>\n",
    "    <td>Кол-во продуктов</td>\n",
    "    <td>1-5</td>\n",
    "    <td>3-5</td>\n",
    "    <td>1532</td>\n",
    "    <td>605</td>\n",
    "    <td>39%</td>\n",
    "  </tr>       \n",
    "  <tr>\n",
    "    <td>Использование кредитной карты</td>\n",
    "    <td>0 - 1</td>\n",
    "    <td>0</td>\n",
    "    <td>3196</td>\n",
    "    <td>817</td>\n",
    "    <td>26%</td>\n",
    "  </tr> \n",
    "  <tr>\n",
    "    <td>Активность</td>\n",
    "    <td>0 - 1</td>\n",
    "    <td>1</td>\n",
    "    <td>5235</td>\n",
    "    <td>1278</td>\n",
    "    <td>24%</td>\n",
    "  </tr>     \n",
    "  <tr>\n",
    "    <td>Оценочный доход</td>\n",
    "    <td>2500-1.4 млн.</td>\n",
    "    <td>95 до 245 тыс.</td>\n",
    "    <td>5393</td>\n",
    "    <td>1074</td>\n",
    "    <td>20%</td>\n",
    "  </tr>  \n",
    "  <tr>\n",
    "    <td>Планируют уйти</td>\n",
    "    <td>0 - 1</td>\n",
    "    <td>1</td>\n",
    "    <td>1819</td>\n",
    "    <td>1819</td>\n",
    "    <td>100%</td>\n",
    "  </tr> \n",
    "</table>\n",
    "\n",
    "__Портреты клиентов__\n",
    "<table>\n",
    "  <tr>\n",
    "    <td><b>Параметр</b></td>\n",
    "    <td><b>Лояльные</b></td>\n",
    "    <td><b>Отточные</b></td>\n",
    "  </tr>\n",
    "  <tr>\n",
    "    <td>Пол</td>\n",
    "    <td>Жен</td>\n",
    "    <td>Муж</td>\n",
    "  </tr>\n",
    "  <tr>\n",
    "    <td>Город</td>\n",
    "    <td>Ярославль</td>\n",
    "    <td>Ярославль</td>\n",
    "  </tr>\n",
    "  <tr>\n",
    "    <td>Возраст</td>\n",
    "    <td>40</td>\n",
    "    <td>39</td>\n",
    "  </tr>\n",
    "  <tr>\n",
    "    <td>Активность</td>\n",
    "    <td>0</td>\n",
    "    <td>1</td>\n",
    "  </tr>    \n",
    "  <tr>\n",
    "    <td>Количество продуктов</td>\n",
    "    <td>2</td>\n",
    "    <td>2</td>\n",
    "  </tr>       \n",
    "  <tr>\n",
    "    <td>Наличие кредитной карты</td>\n",
    "    <td>1</td>\n",
    "    <td>1</td>\n",
    "  </tr> \n",
    "  <tr>\n",
    "    <td>Оценка собственности</td>\n",
    "    <td>3</td>\n",
    "    <td>4</td>\n",
    "  </tr>  \n",
    "  <tr>\n",
    "    <td>Баланс</td>\n",
    "    <td>475 тыс.</td>\n",
    "    <td>782 тыс.</td>\n",
    "  </tr>     \n",
    "  <tr>\n",
    "    <td>Кредитный скоринг</td>\n",
    "    <td>848</td>\n",
    "    <td>866</td>\n",
    "  </tr>      \n",
    "  <tr>\n",
    "    <td>Оценка дохода</td>\n",
    "    <td>118 тыс.</td>\n",
    "    <td>125 тыс.</td>\n",
    "  </tr>    "
   ]
  },
  {
   "cell_type": "markdown",
   "metadata": {},
   "source": [
    "При статистической значимости 5% методами Т-тест и тест Манна-Уитни проведены проверки гипотез о статистически значимом различии средних значений параметров в группах лояльных и нелояльных клиентов. Во всех тестах выявлено различие средних значений, т.е. все нижеперечисленные параметры могут быть использованы при дальнейшей сегментации данных.\n",
    "\n",
    "    Пол\n",
    "    Проживание в г. Ярославль\n",
    "    Ативность\n",
    "    Оценка собственности\n",
    "    Наличие кредитной карты банка\n",
    "    Баланс счетов\n",
    "    Кредитный скоринг\n",
    "    Оценка дохода"
   ]
  },
  {
   "cell_type": "markdown",
   "metadata": {},
   "source": [
    "На базе информации выше выделены три сегмента клиентов в совокупности покрывающие 3122 уникальных клиента, 1130 из которых не являются лояльными.\n",
    "\n",
    "\n",
    "<table>\n",
    "  <tr>\n",
    "    <td><b>Параметр</b></td>\n",
    "    <td><b>Сегмент 1</b></td>\n",
    "    <td><b>Сегмент 2</b></td>\n",
    "    <td><b>Сегмент 3</b></td>\n",
    "  </tr>\n",
    "  <tr>\n",
    "    <td>Включает/отточных/доля%</td>\n",
    "    <td>1599 / 587 / 37%</td>\n",
    "    <td>1080 / 476 / 44%</td>\n",
    "    <td>1085 / 473 / 44%</td>\n",
    "  </tr>\n",
    "  <tr>\n",
    "    <td>Общие признаки</td>\n",
    "    <td>Мужчины, Ярославль,<br> собственность >2</td>\n",
    "    <td>Активные, без кредитки,<br> скоринг 810 - 915</td>\n",
    "    <td>Собственность >2, балансе >1 млн.,<br> доход 95-245 тыр</td>\n",
    "  </tr>\n",
    "  <tr>\n",
    "    <td>Отличие от лояльных</td>\n",
    "    <td>Активность, баланс</td>\n",
    "    <td>Возраст, собственность</td>\n",
    "    <td>Пол, активность, отсутствие кредитки</td>\n",
    "  </tr>\n",
    "  <tr>\n",
    "    <td>Созранение</td>\n",
    "    <td>Упрощение рутины, сохранение</td>\n",
    "    <td>Упрощенеи рутины, кредитка, ипотека</td>\n",
    "    <td>Упрощение рутины, кредитка, ипотека</td>\n",
    "  </tr>\n",
    "</table> \n",
    "\n",
    "__Приоритет работы с сегментами__\n",
    "\n",
    "В первую очередь следует работать с __Сегментом 3__. Этот сегмент включает 1085 человек, 44% которых нелояльны. При этом обладают медианным балансом в 1.5 млн. рублей и совокупным балансом 798 млн. рублей.\n",
    "\n",
    "Во вторую очередь - с __Сегментом 2__. Этот сегмент включает 1080 человек из которых 44% нелояльны. Как показывает статистика, кредитная карта - эффективный метод удержания клиентов и в этой группе предложение кредитной карты должно сработать сильнее всего. Плюс эта группа меньше последней."
   ]
  },
  {
   "cell_type": "markdown",
   "metadata": {},
   "source": [
    "### Заключение\n",
    "\n",
    "Выявлен потенциальный отток до 18% клиентов банка, до 2 млрд. рублей по предоставленной выборке.\n",
    "\n",
    "Из 10 предоставленных характеристик по всем выявлены различия поведения средних клиентов.\n",
    "\n",
    "Сильнее всего связаны с оттоком такие характеристики, как поличество продуктов в использовании, наличие дорогой обственности, активное пользование банковскими услугами.\n",
    "\n",
    "Удерживает клиентов от оттока наличие кредитной карты, возраст и проживание в городе Рыбинск.\n",
    "\n",
    "Нелояльные клиенты были разделены на 3 сегмента по трем общим параметрам каждый. Составлены портреты, предложены рекомендации по работе и очередности обработки сегментов."
   ]
  },
  {
   "cell_type": "markdown",
   "metadata": {},
   "source": [
    "## Готовим презентацию."
   ]
  }
 ],
 "metadata": {
  "ExecuteTimeLog": [
   {
    "duration": 1085,
    "start_time": "2024-06-09T23:30:50.586Z"
   },
   {
    "duration": 39,
    "start_time": "2024-06-09T23:30:51.672Z"
   },
   {
    "duration": 3,
    "start_time": "2024-06-09T23:30:51.712Z"
   },
   {
    "duration": 42,
    "start_time": "2024-06-09T23:30:51.717Z"
   },
   {
    "duration": 5,
    "start_time": "2024-06-09T23:30:51.760Z"
   },
   {
    "duration": 30,
    "start_time": "2024-06-09T23:30:51.767Z"
   },
   {
    "duration": 242,
    "start_time": "2024-06-09T23:30:51.798Z"
   },
   {
    "duration": 5,
    "start_time": "2024-06-09T23:30:52.041Z"
   },
   {
    "duration": 376,
    "start_time": "2024-06-09T23:30:52.047Z"
   },
   {
    "duration": 8,
    "start_time": "2024-06-09T23:30:52.426Z"
   },
   {
    "duration": 608,
    "start_time": "2024-06-09T23:30:52.436Z"
   },
   {
    "duration": 504,
    "start_time": "2024-06-09T23:30:53.045Z"
   },
   {
    "duration": 515,
    "start_time": "2024-06-09T23:30:53.551Z"
   },
   {
    "duration": 570,
    "start_time": "2024-06-09T23:30:54.068Z"
   },
   {
    "duration": 225,
    "start_time": "2024-06-09T23:30:54.639Z"
   },
   {
    "duration": 201,
    "start_time": "2024-06-09T23:30:54.865Z"
   },
   {
    "duration": 526,
    "start_time": "2024-06-09T23:30:55.068Z"
   },
   {
    "duration": 267,
    "start_time": "2024-06-09T23:30:55.596Z"
   },
   {
    "duration": 264,
    "start_time": "2024-06-09T23:30:55.865Z"
   },
   {
    "duration": 222,
    "start_time": "2024-06-09T23:30:56.131Z"
   },
   {
    "duration": 971,
    "start_time": "2024-06-09T23:30:56.354Z"
   },
   {
    "duration": 8,
    "start_time": "2024-06-09T23:30:57.326Z"
   },
   {
    "duration": 46,
    "start_time": "2024-06-09T23:30:57.335Z"
   },
   {
    "duration": 4,
    "start_time": "2024-06-09T23:30:57.382Z"
   },
   {
    "duration": 37,
    "start_time": "2024-06-09T23:30:57.387Z"
   },
   {
    "duration": 17,
    "start_time": "2024-06-09T23:30:57.425Z"
   },
   {
    "duration": 17,
    "start_time": "2024-06-09T23:30:57.443Z"
   },
   {
    "duration": 16,
    "start_time": "2024-06-09T23:30:57.463Z"
   },
   {
    "duration": 49,
    "start_time": "2024-06-09T23:30:57.480Z"
   },
   {
    "duration": 17,
    "start_time": "2024-06-09T23:30:57.531Z"
   },
   {
    "duration": 17,
    "start_time": "2024-06-09T23:30:57.549Z"
   },
   {
    "duration": 17,
    "start_time": "2024-06-09T23:30:57.568Z"
   },
   {
    "duration": 73,
    "start_time": "2024-06-09T23:30:57.586Z"
   },
   {
    "duration": 365,
    "start_time": "2024-06-09T23:30:57.660Z"
   },
   {
    "duration": 11,
    "start_time": "2024-06-09T23:30:58.027Z"
   },
   {
    "duration": 4046,
    "start_time": "2024-06-09T23:30:58.039Z"
   },
   {
    "duration": 6,
    "start_time": "2024-06-09T23:31:02.087Z"
   },
   {
    "duration": 166,
    "start_time": "2024-06-09T23:31:02.095Z"
   },
   {
    "duration": 1451,
    "start_time": "2024-06-10T09:46:28.675Z"
   },
   {
    "duration": 160,
    "start_time": "2024-06-10T09:46:30.129Z"
   },
   {
    "duration": 5,
    "start_time": "2024-06-10T09:46:30.294Z"
   },
   {
    "duration": 87,
    "start_time": "2024-06-10T09:46:30.301Z"
   },
   {
    "duration": 63,
    "start_time": "2024-06-10T09:46:30.390Z"
   },
   {
    "duration": 56,
    "start_time": "2024-06-10T09:46:30.455Z"
   },
   {
    "duration": 316,
    "start_time": "2024-06-10T09:46:30.513Z"
   },
   {
    "duration": 8,
    "start_time": "2024-06-10T09:46:30.831Z"
   },
   {
    "duration": 564,
    "start_time": "2024-06-10T09:46:30.842Z"
   },
   {
    "duration": 11,
    "start_time": "2024-06-10T09:46:31.408Z"
   },
   {
    "duration": 420,
    "start_time": "2024-06-10T09:46:31.420Z"
   },
   {
    "duration": 366,
    "start_time": "2024-06-10T09:46:31.842Z"
   },
   {
    "duration": 365,
    "start_time": "2024-06-10T09:46:32.210Z"
   },
   {
    "duration": 449,
    "start_time": "2024-06-10T09:46:32.577Z"
   },
   {
    "duration": 241,
    "start_time": "2024-06-10T09:46:33.027Z"
   },
   {
    "duration": 0,
    "start_time": "2024-06-10T09:46:33.270Z"
   },
   {
    "duration": 0,
    "start_time": "2024-06-10T09:46:33.271Z"
   },
   {
    "duration": 0,
    "start_time": "2024-06-10T09:46:33.272Z"
   },
   {
    "duration": 0,
    "start_time": "2024-06-10T09:46:33.274Z"
   },
   {
    "duration": 0,
    "start_time": "2024-06-10T09:46:33.275Z"
   },
   {
    "duration": 0,
    "start_time": "2024-06-10T09:46:33.276Z"
   },
   {
    "duration": 0,
    "start_time": "2024-06-10T09:46:33.278Z"
   },
   {
    "duration": 0,
    "start_time": "2024-06-10T09:46:33.279Z"
   },
   {
    "duration": 0,
    "start_time": "2024-06-10T09:46:33.280Z"
   },
   {
    "duration": 0,
    "start_time": "2024-06-10T09:46:33.281Z"
   },
   {
    "duration": 0,
    "start_time": "2024-06-10T09:46:33.282Z"
   },
   {
    "duration": 0,
    "start_time": "2024-06-10T09:46:33.283Z"
   },
   {
    "duration": 0,
    "start_time": "2024-06-10T09:46:33.285Z"
   },
   {
    "duration": 0,
    "start_time": "2024-06-10T09:46:33.286Z"
   },
   {
    "duration": 0,
    "start_time": "2024-06-10T09:46:33.287Z"
   },
   {
    "duration": 0,
    "start_time": "2024-06-10T09:46:33.288Z"
   },
   {
    "duration": 0,
    "start_time": "2024-06-10T09:46:33.289Z"
   },
   {
    "duration": 0,
    "start_time": "2024-06-10T09:46:33.291Z"
   },
   {
    "duration": 0,
    "start_time": "2024-06-10T09:46:33.292Z"
   },
   {
    "duration": 0,
    "start_time": "2024-06-10T09:46:33.293Z"
   },
   {
    "duration": 0,
    "start_time": "2024-06-10T09:46:33.294Z"
   },
   {
    "duration": 0,
    "start_time": "2024-06-10T09:46:33.295Z"
   },
   {
    "duration": 0,
    "start_time": "2024-06-10T09:46:33.296Z"
   },
   {
    "duration": 10626,
    "start_time": "2024-06-10T10:00:58.467Z"
   },
   {
    "duration": 1275,
    "start_time": "2024-06-10T10:01:16.140Z"
   },
   {
    "duration": 43,
    "start_time": "2024-06-10T10:01:17.417Z"
   },
   {
    "duration": 4,
    "start_time": "2024-06-10T10:01:17.462Z"
   },
   {
    "duration": 43,
    "start_time": "2024-06-10T10:01:17.469Z"
   },
   {
    "duration": 6,
    "start_time": "2024-06-10T10:01:17.514Z"
   },
   {
    "duration": 14,
    "start_time": "2024-06-10T10:01:17.522Z"
   },
   {
    "duration": 306,
    "start_time": "2024-06-10T10:01:17.538Z"
   },
   {
    "duration": 16,
    "start_time": "2024-06-10T10:01:17.846Z"
   },
   {
    "duration": 391,
    "start_time": "2024-06-10T10:01:17.863Z"
   },
   {
    "duration": 11,
    "start_time": "2024-06-10T10:01:18.260Z"
   },
   {
    "duration": 547,
    "start_time": "2024-06-10T10:01:18.272Z"
   },
   {
    "duration": 580,
    "start_time": "2024-06-10T10:01:18.821Z"
   },
   {
    "duration": 591,
    "start_time": "2024-06-10T10:01:19.402Z"
   },
   {
    "duration": 674,
    "start_time": "2024-06-10T10:01:19.994Z"
   },
   {
    "duration": 249,
    "start_time": "2024-06-10T10:01:20.670Z"
   },
   {
    "duration": 266,
    "start_time": "2024-06-10T10:01:20.921Z"
   },
   {
    "duration": 365,
    "start_time": "2024-06-10T10:01:21.189Z"
   },
   {
    "duration": 259,
    "start_time": "2024-06-10T10:01:21.561Z"
   },
   {
    "duration": 274,
    "start_time": "2024-06-10T10:01:21.822Z"
   },
   {
    "duration": 209,
    "start_time": "2024-06-10T10:01:22.098Z"
   },
   {
    "duration": 1726,
    "start_time": "2024-06-10T10:01:22.308Z"
   },
   {
    "duration": 12,
    "start_time": "2024-06-10T10:01:24.037Z"
   },
   {
    "duration": 175,
    "start_time": "2024-06-10T10:01:24.060Z"
   },
   {
    "duration": 5,
    "start_time": "2024-06-10T10:01:24.237Z"
   },
   {
    "duration": 30,
    "start_time": "2024-06-10T10:01:24.244Z"
   },
   {
    "duration": 21,
    "start_time": "2024-06-10T10:01:24.276Z"
   },
   {
    "duration": 23,
    "start_time": "2024-06-10T10:01:24.299Z"
   },
   {
    "duration": 54,
    "start_time": "2024-06-10T10:01:24.325Z"
   },
   {
    "duration": 21,
    "start_time": "2024-06-10T10:01:24.380Z"
   },
   {
    "duration": 78,
    "start_time": "2024-06-10T10:01:24.403Z"
   },
   {
    "duration": 20,
    "start_time": "2024-06-10T10:01:24.482Z"
   },
   {
    "duration": 25,
    "start_time": "2024-06-10T10:01:24.504Z"
   },
   {
    "duration": 84,
    "start_time": "2024-06-10T10:01:24.531Z"
   },
   {
    "duration": 467,
    "start_time": "2024-06-10T10:01:24.617Z"
   },
   {
    "duration": 13,
    "start_time": "2024-06-10T10:01:25.085Z"
   },
   {
    "duration": 5365,
    "start_time": "2024-06-10T10:01:25.099Z"
   },
   {
    "duration": 8,
    "start_time": "2024-06-10T10:01:30.467Z"
   },
   {
    "duration": 291,
    "start_time": "2024-06-10T10:01:30.476Z"
   },
   {
    "duration": 115,
    "start_time": "2024-06-10T10:14:21.420Z"
   },
   {
    "duration": 1135,
    "start_time": "2024-06-11T12:24:15.047Z"
   },
   {
    "duration": 162,
    "start_time": "2024-06-11T12:24:16.184Z"
   },
   {
    "duration": 4,
    "start_time": "2024-06-11T12:24:16.348Z"
   },
   {
    "duration": 32,
    "start_time": "2024-06-11T12:24:16.354Z"
   },
   {
    "duration": 7,
    "start_time": "2024-06-11T12:24:16.387Z"
   },
   {
    "duration": 12,
    "start_time": "2024-06-11T12:24:16.395Z"
   },
   {
    "duration": 288,
    "start_time": "2024-06-11T12:24:16.409Z"
   },
   {
    "duration": 7,
    "start_time": "2024-06-11T12:24:16.699Z"
   },
   {
    "duration": 404,
    "start_time": "2024-06-11T12:24:16.707Z"
   },
   {
    "duration": 13,
    "start_time": "2024-06-11T12:24:17.113Z"
   },
   {
    "duration": 22,
    "start_time": "2024-06-11T12:24:17.128Z"
   },
   {
    "duration": 327,
    "start_time": "2024-06-11T12:24:17.152Z"
   },
   {
    "duration": 349,
    "start_time": "2024-06-11T12:24:17.481Z"
   },
   {
    "duration": 292,
    "start_time": "2024-06-11T12:24:17.831Z"
   },
   {
    "duration": 373,
    "start_time": "2024-06-11T12:24:18.124Z"
   },
   {
    "duration": 206,
    "start_time": "2024-06-11T12:24:18.498Z"
   },
   {
    "duration": 0,
    "start_time": "2024-06-11T12:24:18.706Z"
   },
   {
    "duration": 0,
    "start_time": "2024-06-11T12:24:18.707Z"
   },
   {
    "duration": 0,
    "start_time": "2024-06-11T12:24:18.709Z"
   },
   {
    "duration": 0,
    "start_time": "2024-06-11T12:24:18.710Z"
   },
   {
    "duration": 0,
    "start_time": "2024-06-11T12:24:18.712Z"
   },
   {
    "duration": 0,
    "start_time": "2024-06-11T12:24:18.713Z"
   },
   {
    "duration": 0,
    "start_time": "2024-06-11T12:24:18.714Z"
   },
   {
    "duration": 0,
    "start_time": "2024-06-11T12:24:18.716Z"
   },
   {
    "duration": 0,
    "start_time": "2024-06-11T12:24:18.717Z"
   },
   {
    "duration": 0,
    "start_time": "2024-06-11T12:24:18.718Z"
   },
   {
    "duration": 0,
    "start_time": "2024-06-11T12:24:18.745Z"
   },
   {
    "duration": 0,
    "start_time": "2024-06-11T12:24:18.747Z"
   },
   {
    "duration": 0,
    "start_time": "2024-06-11T12:24:18.748Z"
   },
   {
    "duration": 0,
    "start_time": "2024-06-11T12:24:18.749Z"
   },
   {
    "duration": 0,
    "start_time": "2024-06-11T12:24:18.751Z"
   },
   {
    "duration": 0,
    "start_time": "2024-06-11T12:24:18.752Z"
   },
   {
    "duration": 0,
    "start_time": "2024-06-11T12:24:18.754Z"
   },
   {
    "duration": 0,
    "start_time": "2024-06-11T12:24:18.755Z"
   },
   {
    "duration": 0,
    "start_time": "2024-06-11T12:24:18.756Z"
   },
   {
    "duration": 0,
    "start_time": "2024-06-11T12:24:18.758Z"
   },
   {
    "duration": 0,
    "start_time": "2024-06-11T12:24:18.759Z"
   },
   {
    "duration": 0,
    "start_time": "2024-06-11T12:24:18.761Z"
   },
   {
    "duration": 0,
    "start_time": "2024-06-11T12:24:18.762Z"
   },
   {
    "duration": 0,
    "start_time": "2024-06-11T12:24:18.763Z"
   },
   {
    "duration": 0,
    "start_time": "2024-06-11T12:24:18.765Z"
   },
   {
    "duration": 7930,
    "start_time": "2024-06-11T12:26:07.099Z"
   },
   {
    "duration": 1186,
    "start_time": "2024-06-11T12:26:20.943Z"
   },
   {
    "duration": 40,
    "start_time": "2024-06-11T12:26:22.131Z"
   },
   {
    "duration": 4,
    "start_time": "2024-06-11T12:26:22.172Z"
   },
   {
    "duration": 29,
    "start_time": "2024-06-11T12:26:22.178Z"
   },
   {
    "duration": 6,
    "start_time": "2024-06-11T12:26:22.208Z"
   },
   {
    "duration": 21,
    "start_time": "2024-06-11T12:26:22.216Z"
   },
   {
    "duration": 286,
    "start_time": "2024-06-11T12:26:22.239Z"
   },
   {
    "duration": 13,
    "start_time": "2024-06-11T12:26:22.527Z"
   },
   {
    "duration": 356,
    "start_time": "2024-06-11T12:26:22.546Z"
   },
   {
    "duration": 12,
    "start_time": "2024-06-11T12:26:22.904Z"
   },
   {
    "duration": 48,
    "start_time": "2024-06-11T12:26:22.917Z"
   },
   {
    "duration": 506,
    "start_time": "2024-06-11T12:26:22.967Z"
   },
   {
    "duration": 516,
    "start_time": "2024-06-11T12:26:23.475Z"
   },
   {
    "duration": 579,
    "start_time": "2024-06-11T12:26:23.993Z"
   },
   {
    "duration": 608,
    "start_time": "2024-06-11T12:26:24.574Z"
   },
   {
    "duration": 224,
    "start_time": "2024-06-11T12:26:25.183Z"
   },
   {
    "duration": 267,
    "start_time": "2024-06-11T12:26:25.409Z"
   },
   {
    "duration": 332,
    "start_time": "2024-06-11T12:26:25.677Z"
   },
   {
    "duration": 274,
    "start_time": "2024-06-11T12:26:26.010Z"
   },
   {
    "duration": 194,
    "start_time": "2024-06-11T12:26:26.286Z"
   },
   {
    "duration": 201,
    "start_time": "2024-06-11T12:26:26.482Z"
   },
   {
    "duration": 1358,
    "start_time": "2024-06-11T12:26:26.684Z"
   },
   {
    "duration": 83,
    "start_time": "2024-06-11T12:26:28.043Z"
   },
   {
    "duration": 56,
    "start_time": "2024-06-11T12:26:28.127Z"
   },
   {
    "duration": 4,
    "start_time": "2024-06-11T12:26:28.185Z"
   },
   {
    "duration": 31,
    "start_time": "2024-06-11T12:26:28.190Z"
   },
   {
    "duration": 23,
    "start_time": "2024-06-11T12:26:28.222Z"
   },
   {
    "duration": 19,
    "start_time": "2024-06-11T12:26:28.248Z"
   },
   {
    "duration": 20,
    "start_time": "2024-06-11T12:26:28.268Z"
   },
   {
    "duration": 12,
    "start_time": "2024-06-11T12:26:28.289Z"
   },
   {
    "duration": 17,
    "start_time": "2024-06-11T12:26:28.302Z"
   },
   {
    "duration": 27,
    "start_time": "2024-06-11T12:26:28.321Z"
   },
   {
    "duration": 10,
    "start_time": "2024-06-11T12:26:28.350Z"
   },
   {
    "duration": 9,
    "start_time": "2024-06-11T12:26:28.362Z"
   },
   {
    "duration": 50,
    "start_time": "2024-06-11T12:26:28.373Z"
   },
   {
    "duration": 407,
    "start_time": "2024-06-11T12:26:28.446Z"
   },
   {
    "duration": 16,
    "start_time": "2024-06-11T12:26:28.854Z"
   },
   {
    "duration": 4342,
    "start_time": "2024-06-11T12:26:28.871Z"
   },
   {
    "duration": 7,
    "start_time": "2024-06-11T12:26:33.214Z"
   },
   {
    "duration": 13,
    "start_time": "2024-06-11T12:26:33.222Z"
   },
   {
    "duration": 163,
    "start_time": "2024-06-11T12:26:33.245Z"
   }
  ],
  "kernelspec": {
   "display_name": "Python 3 (ipykernel)",
   "language": "python",
   "name": "python3"
  },
  "language_info": {
   "codemirror_mode": {
    "name": "ipython",
    "version": 3
   },
   "file_extension": ".py",
   "mimetype": "text/x-python",
   "name": "python",
   "nbconvert_exporter": "python",
   "pygments_lexer": "ipython3",
   "version": "3.9.18"
  },
  "toc": {
   "base_numbering": 1,
   "nav_menu": {},
   "number_sections": true,
   "sideBar": true,
   "skip_h1_title": true,
   "title_cell": "Table of Contents",
   "title_sidebar": "Contents",
   "toc_cell": false,
   "toc_position": {},
   "toc_section_display": true,
   "toc_window_display": false
  }
 },
 "nbformat": 4,
 "nbformat_minor": 2
}
